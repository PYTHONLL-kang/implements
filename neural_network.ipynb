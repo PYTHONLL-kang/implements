{
 "cells": [
  {
   "cell_type": "code",
   "execution_count": 1,
   "metadata": {},
   "outputs": [],
   "source": [
    "## todo\n",
    "# README.md\n",
    "# optimizer : learning rate scheduler\n",
    "# layer : rnn, batch normalization\n",
    "# analysis : validation error\n",
    "# fit : callbacks\n",
    "\n",
    "# tf -> custom calcuration program"
   ]
  },
  {
   "cell_type": "code",
   "execution_count": 2,
   "metadata": {},
   "outputs": [],
   "source": [
    "import tensorflow as tf\n",
    "import numpy as np\n",
    "import matplotlib.pyplot as plt\n",
    "import copy\n",
    "\n",
    "import k.Activations.functions as Activations\n",
    "import k.Layers.functions as Layers\n",
    "import k.Losses.functions as Losses\n",
    "import k.Optimizers.functions as Optimizers"
   ]
  },
  {
   "cell_type": "code",
   "execution_count": 3,
   "metadata": {},
   "outputs": [],
   "source": [
    "class Neural_network:\n",
    "    def __init__(self):\n",
    "        self.network = []\n",
    "\n",
    "    def to_object(self, param, class_):\n",
    "        if type(param) == str:\n",
    "            return class_(param)\n",
    "        return param\n",
    "\n",
    "    def compile(self, loss, optimizer):\n",
    "        self.loss = self.to_object(loss, Losses.function)\n",
    "        self.optimizer = self.to_object(optimizer, Optimizers.function)\n",
    "\n",
    "        for layer in self.network:\n",
    "            if not hasattr(layer, 'set_shape'):\n",
    "                continue\n",
    "\n",
    "            if layer.input_shape is None:\n",
    "                layer.input_shape = output_shape\n",
    "\n",
    "            layer.set_shape()\n",
    "            output_shape = layer.output_shape\n",
    "\n",
    "            if hasattr(layer, 'set_vars'):\n",
    "                layer.set_vars(copy.deepcopy(self.optimizer))\n",
    "\n",
    "        self.network_depth = len(self.network)\n",
    "\n",
    "    def predict(self, data):\n",
    "        self.calcuration_graph = [data]\n",
    "\n",
    "        for layer in self.network:\n",
    "            data = layer.forward(data)\n",
    "            self.calcuration_graph.append(data)\n",
    "\n",
    "        return data\n",
    "\n",
    "    def evaluate(self, x, y):\n",
    "        loss = self.loss.forward(y, self.predict(x))\n",
    "        return loss\n",
    "\n",
    "    def fit(self, x, y, batch_size, epochs, verbose):\n",
    "        loss_graph = []\n",
    "\n",
    "        data_num = x.shape[0]\n",
    "\n",
    "        if batch_size > data_num:\n",
    "            batch_size = data_num\n",
    "\n",
    "        mini_batch_num = data_num//batch_size\n",
    "        epoch_digits = len(str(epochs))\n",
    "\n",
    "        for epoch in range(epochs):\n",
    "            for batch in range(mini_batch_num):\n",
    "                index = np.random.randint(data_num, size=batch_size)\n",
    "                batch_x = x[index, :]\n",
    "                batch_y = y[index, :]\n",
    "\n",
    "                batch_p = self.predict(batch_x)\n",
    "\n",
    "                loss = self.loss.forward(batch_y, batch_p)\n",
    "                gradients = self.loss.backward(batch_y, batch_p)\n",
    "                for i in range(self.network_depth):\n",
    "                    gradients = self.network[-i-1].backward(gradients, self.calcuration_graph[-i-2], self.calcuration_graph[-i-1])\n",
    "\n",
    "                if verbose == 2:\n",
    "                    print(f\"epoch: {epoch:0{epoch_digits}d}, batch: {batch}/{mini_batch_num} | loss: \", f'{loss:.4f}' if loss <= 0.0001 else f'{loss:.4e}')\n",
    "\n",
    "            if verbose == 1:\n",
    "                print(f\"epoch: {epoch:0{epoch_digits}d} | loss: \", f'{loss:.4f}' if loss > 0.0001 else f'{loss:.4e}')\n",
    "\n",
    "            loss_graph.append(loss)\n",
    "\n",
    "        return np.array(loss_graph)"
   ]
  },
  {
   "cell_type": "code",
   "execution_count": 4,
   "metadata": {},
   "outputs": [
    {
     "name": "stderr",
     "output_type": "stream",
     "text": [
      "2024-03-10 22:00:40.811521: I tensorflow/core/platform/cpu_feature_guard.cc:193] This TensorFlow binary is optimized with oneAPI Deep Neural Network Library (oneDNN) to use the following CPU instructions in performance-critical operations:  SSE4.1 SSE4.2 AVX AVX2 FMA\n",
      "To enable them in other operations, rebuild TensorFlow with the appropriate compiler flags.\n",
      "2024-03-10 22:00:40.812676: I tensorflow/core/common_runtime/process_util.cc:146] Creating new thread pool with default inter op setting: 2. Tune using inter_op_parallelism_threads for best performance.\n"
     ]
    }
   ],
   "source": [
    "train_data, test_data = tf.keras.datasets.mnist.load_data()\n",
    "train_x, train_y = train_data\n",
    "test_x, test_y = test_data\n",
    "\n",
    "data = [train_x/255, train_y, test_x/255, test_y]\n",
    "processed_data = [np.array(tf.expand_dims(d, -1), dtype=np.float32)[0:40000] for d in data]\n",
    "\n",
    "train_x, train_y, test_x, test_y = processed_data"
   ]
  },
  {
   "cell_type": "code",
   "execution_count": 5,
   "metadata": {},
   "outputs": [],
   "source": [
    "train_y = tf.keras.utils.to_categorical(train_y, num_classes=10)\n",
    "test_y = tf.keras.utils.to_categorical(test_y, num_classes=10)"
   ]
  },
  {
   "cell_type": "code",
   "execution_count": 6,
   "metadata": {},
   "outputs": [],
   "source": [
    "model = Neural_network()\n",
    "model.network.append(Layers.Convolution2D(input_shape=train_x.shape[1::], filters=2, kernel_shape=(3, 3)))\n",
    "model.network.append(Activations.ReLU())\n",
    "model.network.append(Layers.Flatten())\n",
    "model.network.append(Layers.Dense(output_shape=32, dropout_rate=0.1))\n",
    "model.network.append(Activations.ReLU())\n",
    "model.network.append(Layers.Dense(output_shape=10))\n",
    "model.network.append(Activations.Softmax())\n",
    "\n",
    "optimizer = Optimizers.Adam(learning_rate=1e-4)\n",
    "model.compile('cce', optimizer)"
   ]
  },
  {
   "cell_type": "code",
   "execution_count": 7,
   "metadata": {},
   "outputs": [
    {
     "data": {
      "text/plain": [
       "<tf.Tensor: shape=(), dtype=float32, numpy=0.2347741>"
      ]
     },
     "execution_count": 7,
     "metadata": {},
     "output_type": "execute_result"
    }
   ],
   "source": [
    "model.evaluate(test_x, test_y)"
   ]
  },
  {
   "cell_type": "code",
   "execution_count": 8,
   "metadata": {},
   "outputs": [
    {
     "name": "stdout",
     "output_type": "stream",
     "text": [
      "epoch: 000 | loss:  0.2236\n",
      "epoch: 001 | loss:  0.2131\n",
      "epoch: 002 | loss:  0.2020\n",
      "epoch: 003 | loss:  0.1910\n",
      "epoch: 004 | loss:  0.1796\n",
      "epoch: 005 | loss:  0.1683\n",
      "epoch: 006 | loss:  0.1595\n",
      "epoch: 007 | loss:  0.1481\n",
      "epoch: 008 | loss:  0.1383\n",
      "epoch: 009 | loss:  0.1286\n",
      "epoch: 010 | loss:  0.1213\n",
      "epoch: 011 | loss:  0.1124\n",
      "epoch: 012 | loss:  0.1060\n",
      "epoch: 013 | loss:  0.1001\n",
      "epoch: 014 | loss:  0.0940\n",
      "epoch: 015 | loss:  0.0904\n",
      "epoch: 016 | loss:  0.0840\n",
      "epoch: 017 | loss:  0.0809\n",
      "epoch: 018 | loss:  0.0777\n",
      "epoch: 019 | loss:  0.0754\n",
      "epoch: 020 | loss:  0.0714\n",
      "epoch: 021 | loss:  0.0684\n",
      "epoch: 022 | loss:  0.0649\n",
      "epoch: 023 | loss:  0.0648\n",
      "epoch: 024 | loss:  0.0623\n",
      "epoch: 025 | loss:  0.0594\n",
      "epoch: 026 | loss:  0.0571\n",
      "epoch: 027 | loss:  0.0559\n",
      "epoch: 028 | loss:  0.0557\n",
      "epoch: 029 | loss:  0.0522\n",
      "epoch: 030 | loss:  0.0526\n",
      "epoch: 031 | loss:  0.0514\n",
      "epoch: 032 | loss:  0.0493\n",
      "epoch: 033 | loss:  0.0485\n",
      "epoch: 034 | loss:  0.0455\n",
      "epoch: 035 | loss:  0.0456\n",
      "epoch: 036 | loss:  0.0469\n",
      "epoch: 037 | loss:  0.0451\n",
      "epoch: 038 | loss:  0.0450\n",
      "epoch: 039 | loss:  0.0423\n",
      "epoch: 040 | loss:  0.0431\n",
      "epoch: 041 | loss:  0.0414\n",
      "epoch: 042 | loss:  0.0424\n",
      "epoch: 043 | loss:  0.0406\n",
      "epoch: 044 | loss:  0.0385\n",
      "epoch: 045 | loss:  0.0412\n",
      "epoch: 046 | loss:  0.0396\n",
      "epoch: 047 | loss:  0.0384\n",
      "epoch: 048 | loss:  0.0370\n",
      "epoch: 049 | loss:  0.0359\n",
      "epoch: 050 | loss:  0.0363\n",
      "epoch: 051 | loss:  0.0365\n",
      "epoch: 052 | loss:  0.0384\n",
      "epoch: 053 | loss:  0.0358\n",
      "epoch: 054 | loss:  0.0357\n",
      "epoch: 055 | loss:  0.0350\n",
      "epoch: 056 | loss:  0.0325\n",
      "epoch: 057 | loss:  0.0337\n",
      "epoch: 058 | loss:  0.0342\n",
      "epoch: 059 | loss:  0.0349\n",
      "epoch: 060 | loss:  0.0333\n",
      "epoch: 061 | loss:  0.0314\n",
      "epoch: 062 | loss:  0.0333\n",
      "epoch: 063 | loss:  0.0337\n",
      "epoch: 064 | loss:  0.0316\n",
      "epoch: 065 | loss:  0.0335\n",
      "epoch: 066 | loss:  0.0310\n",
      "epoch: 067 | loss:  0.0321\n",
      "epoch: 068 | loss:  0.0315\n",
      "epoch: 069 | loss:  0.0333\n",
      "epoch: 070 | loss:  0.0311\n",
      "epoch: 071 | loss:  0.0306\n",
      "epoch: 072 | loss:  0.0324\n",
      "epoch: 073 | loss:  0.0327\n",
      "epoch: 074 | loss:  0.0307\n",
      "epoch: 075 | loss:  0.0307\n",
      "epoch: 076 | loss:  0.0307\n",
      "epoch: 077 | loss:  0.0282\n",
      "epoch: 078 | loss:  0.0308\n",
      "epoch: 079 | loss:  0.0299\n",
      "epoch: 080 | loss:  0.0292\n",
      "epoch: 081 | loss:  0.0280\n",
      "epoch: 082 | loss:  0.0301\n",
      "epoch: 083 | loss:  0.0281\n",
      "epoch: 084 | loss:  0.0301\n",
      "epoch: 085 | loss:  0.0305\n",
      "epoch: 086 | loss:  0.0292\n",
      "epoch: 087 | loss:  0.0274\n",
      "epoch: 088 | loss:  0.0291\n",
      "epoch: 089 | loss:  0.0286\n",
      "epoch: 090 | loss:  0.0291\n",
      "epoch: 091 | loss:  0.0262\n",
      "epoch: 092 | loss:  0.0282\n",
      "epoch: 093 | loss:  0.0283\n",
      "epoch: 094 | loss:  0.0258\n",
      "epoch: 095 | loss:  0.0288\n",
      "epoch: 096 | loss:  0.0262\n",
      "epoch: 097 | loss:  0.0277\n",
      "epoch: 098 | loss:  0.0251\n",
      "epoch: 099 | loss:  0.0282\n"
     ]
    }
   ],
   "source": [
    "hist = model.fit(train_x, train_y, batch_size=4096, epochs=100, verbose=1)"
   ]
  },
  {
   "cell_type": "code",
   "execution_count": 9,
   "metadata": {},
   "outputs": [
    {
     "data": {
      "image/png": "[encoded data removed]",
      "text/plain": [
       "<Figure size 640x480 with 1 Axes>"
      ]
     },
     "metadata": {},
     "output_type": "display_data"
    }
   ],
   "source": [
    "plt.plot(hist)\n",
    "plt.show()"
   ]
  },
  {
   "cell_type": "code",
   "execution_count": 10,
   "metadata": {},
   "outputs": [
    {
     "data": {
      "text/plain": [
       "<tf.Tensor: shape=(), dtype=float32, numpy=0.026333047>"
      ]
     },
     "execution_count": 10,
     "metadata": {},
     "output_type": "execute_result"
    }
   ],
   "source": [
    "model.evaluate(test_x, test_y)"
   ]
  },
  {
   "cell_type": "markdown",
   "metadata": {},
   "source": [
    "make tensorflow model to compare"
   ]
  },
  {
   "cell_type": "code",
   "execution_count": 12,
   "metadata": {},
   "outputs": [],
   "source": [
    "tf_model = tf.keras.Sequential()\n",
    "tf_model.add(tf.keras.layers.Conv2D(filters=2, kernel_size=3, input_shape=train_x.shape[1::], activation='relu'))\n",
    "tf_model.add(tf.keras.layers.Flatten())\n",
    "tf_model.add(tf.keras.layers.Dense(32, activation='relu'))\n",
    "tf_model.add(tf.keras.layers.Dropout(0.1))\n",
    "tf_model.add(tf.keras.layers.Dense(10, activation='softmax'))\n",
    "\n",
    "optimizer = tf.keras.optimizers.Adam(learning_rate=1e-4)\n",
    "tf_model.compile(loss='categorical_crossentropy', optimizer=optimizer)"
   ]
  },
  {
   "cell_type": "code",
   "execution_count": 13,
   "metadata": {},
   "outputs": [
    {
     "name": "stdout",
     "output_type": "stream",
     "text": [
      "313/313 [==============================] - 2s 6ms/step - loss: 2.3523\n"
     ]
    },
    {
     "data": {
      "text/plain": [
       "2.3522651195526123"
      ]
     },
     "execution_count": 13,
     "metadata": {},
     "output_type": "execute_result"
    }
   ],
   "source": [
    "tf_model.evaluate(test_x, test_y)"
   ]
  },
  {
   "cell_type": "code",
   "execution_count": 14,
   "metadata": {},
   "outputs": [
    {
     "name": "stdout",
     "output_type": "stream",
     "text": [
      "Epoch 1/100\n"
     ]
    },
    {
     "name": "stdout",
     "output_type": "stream",
     "text": [
      "10/10 [==============================] - 1s 65ms/step - loss: 2.3228\n",
      "Epoch 2/100\n",
      "10/10 [==============================] - 1s 89ms/step - loss: 2.2470\n",
      "Epoch 3/100\n",
      "10/10 [==============================] - 1s 70ms/step - loss: 2.1745\n",
      "Epoch 4/100\n",
      "10/10 [==============================] - 1s 73ms/step - loss: 2.0998\n",
      "Epoch 5/100\n",
      "10/10 [==============================] - 1s 71ms/step - loss: 2.0219\n",
      "Epoch 6/100\n",
      "10/10 [==============================] - 1s 62ms/step - loss: 1.9443\n",
      "Epoch 7/100\n",
      "10/10 [==============================] - 1s 61ms/step - loss: 1.8687\n",
      "Epoch 8/100\n",
      "10/10 [==============================] - 1s 72ms/step - loss: 1.7956\n",
      "Epoch 9/100\n",
      "10/10 [==============================] - 1s 75ms/step - loss: 1.7252\n",
      "Epoch 10/100\n",
      "10/10 [==============================] - 1s 72ms/step - loss: 1.6541\n",
      "Epoch 11/100\n",
      "10/10 [==============================] - 1s 70ms/step - loss: 1.5863\n",
      "Epoch 12/100\n",
      "10/10 [==============================] - 1s 72ms/step - loss: 1.5239\n",
      "Epoch 13/100\n",
      "10/10 [==============================] - 1s 62ms/step - loss: 1.4628\n",
      "Epoch 14/100\n",
      "10/10 [==============================] - 1s 75ms/step - loss: 1.4039\n",
      "Epoch 15/100\n",
      "10/10 [==============================] - 1s 66ms/step - loss: 1.3466\n",
      "Epoch 16/100\n",
      "10/10 [==============================] - 1s 59ms/step - loss: 1.2942\n",
      "Epoch 17/100\n",
      "10/10 [==============================] - 1s 53ms/step - loss: 1.2437\n",
      "Epoch 18/100\n",
      "10/10 [==============================] - 1s 64ms/step - loss: 1.1950\n",
      "Epoch 19/100\n",
      "10/10 [==============================] - 1s 61ms/step - loss: 1.1494\n",
      "Epoch 20/100\n",
      "10/10 [==============================] - 1s 58ms/step - loss: 1.1064\n",
      "Epoch 21/100\n",
      "10/10 [==============================] - 1s 61ms/step - loss: 1.0679\n",
      "Epoch 22/100\n",
      "10/10 [==============================] - 1s 69ms/step - loss: 1.0319\n",
      "Epoch 23/100\n",
      "10/10 [==============================] - 1s 68ms/step - loss: 0.9951\n",
      "Epoch 24/100\n",
      "10/10 [==============================] - 1s 76ms/step - loss: 0.9596\n",
      "Epoch 25/100\n",
      "10/10 [==============================] - 1s 68ms/step - loss: 0.9231\n",
      "Epoch 26/100\n",
      "10/10 [==============================] - 1s 71ms/step - loss: 0.8955\n",
      "Epoch 27/100\n",
      "10/10 [==============================] - 1s 69ms/step - loss: 0.8654\n",
      "Epoch 28/100\n",
      "10/10 [==============================] - 1s 65ms/step - loss: 0.8361\n",
      "Epoch 29/100\n",
      "10/10 [==============================] - 1s 67ms/step - loss: 0.8144\n",
      "Epoch 30/100\n",
      "10/10 [==============================] - 1s 71ms/step - loss: 0.7838\n",
      "Epoch 31/100\n",
      "10/10 [==============================] - 1s 71ms/step - loss: 0.7633\n",
      "Epoch 32/100\n",
      "10/10 [==============================] - 1s 68ms/step - loss: 0.7451\n",
      "Epoch 33/100\n",
      "10/10 [==============================] - 1s 73ms/step - loss: 0.7221\n",
      "Epoch 34/100\n",
      "10/10 [==============================] - 1s 89ms/step - loss: 0.7037\n",
      "Epoch 35/100\n",
      "10/10 [==============================] - 1s 73ms/step - loss: 0.6881\n",
      "Epoch 36/100\n",
      "10/10 [==============================] - 1s 62ms/step - loss: 0.6688\n",
      "Epoch 37/100\n",
      "10/10 [==============================] - 1s 78ms/step - loss: 0.6581\n",
      "Epoch 38/100\n",
      "10/10 [==============================] - 1s 64ms/step - loss: 0.6416\n",
      "Epoch 39/100\n",
      "10/10 [==============================] - 1s 65ms/step - loss: 0.6314\n",
      "Epoch 40/100\n",
      "10/10 [==============================] - 1s 72ms/step - loss: 0.6198\n",
      "Epoch 41/100\n",
      "10/10 [==============================] - 1s 68ms/step - loss: 0.6086\n",
      "Epoch 42/100\n",
      "10/10 [==============================] - 1s 64ms/step - loss: 0.6002\n",
      "Epoch 43/100\n",
      "10/10 [==============================] - 1s 62ms/step - loss: 0.5889\n",
      "Epoch 44/100\n",
      "10/10 [==============================] - 1s 75ms/step - loss: 0.5799\n",
      "Epoch 45/100\n",
      "10/10 [==============================] - 1s 77ms/step - loss: 0.5707\n",
      "Epoch 46/100\n",
      "10/10 [==============================] - 1s 67ms/step - loss: 0.5611\n",
      "Epoch 47/100\n",
      "10/10 [==============================] - 1s 75ms/step - loss: 0.5503\n",
      "Epoch 48/100\n",
      "10/10 [==============================] - 1s 69ms/step - loss: 0.5441\n",
      "Epoch 49/100\n",
      "10/10 [==============================] - 1s 68ms/step - loss: 0.5378\n",
      "Epoch 50/100\n",
      "10/10 [==============================] - 1s 75ms/step - loss: 0.5306\n",
      "Epoch 51/100\n",
      "10/10 [==============================] - 1s 62ms/step - loss: 0.5257\n",
      "Epoch 52/100\n",
      "10/10 [==============================] - 1s 77ms/step - loss: 0.5170\n",
      "Epoch 53/100\n",
      "10/10 [==============================] - 1s 72ms/step - loss: 0.5075\n",
      "Epoch 54/100\n",
      "10/10 [==============================] - 1s 64ms/step - loss: 0.5048\n",
      "Epoch 55/100\n",
      "10/10 [==============================] - 1s 67ms/step - loss: 0.4993\n",
      "Epoch 56/100\n",
      "10/10 [==============================] - 1s 55ms/step - loss: 0.4944\n",
      "Epoch 57/100\n",
      "10/10 [==============================] - 1s 62ms/step - loss: 0.4871\n",
      "Epoch 58/100\n",
      "10/10 [==============================] - 1s 64ms/step - loss: 0.4826\n",
      "Epoch 59/100\n",
      "10/10 [==============================] - 1s 71ms/step - loss: 0.4796\n",
      "Epoch 60/100\n",
      "10/10 [==============================] - 1s 56ms/step - loss: 0.4731\n",
      "Epoch 61/100\n",
      "10/10 [==============================] - 1s 64ms/step - loss: 0.4675\n",
      "Epoch 62/100\n",
      "10/10 [==============================] - 1s 68ms/step - loss: 0.4625\n",
      "Epoch 63/100\n",
      "10/10 [==============================] - 1s 68ms/step - loss: 0.4621\n",
      "Epoch 64/100\n",
      "10/10 [==============================] - 1s 79ms/step - loss: 0.4571\n",
      "Epoch 65/100\n",
      "10/10 [==============================] - 1s 67ms/step - loss: 0.4528\n",
      "Epoch 66/100\n",
      "10/10 [==============================] - 1s 69ms/step - loss: 0.4453\n",
      "Epoch 67/100\n",
      "10/10 [==============================] - 1s 68ms/step - loss: 0.4430\n",
      "Epoch 68/100\n",
      "10/10 [==============================] - 1s 70ms/step - loss: 0.4401\n",
      "Epoch 69/100\n",
      "10/10 [==============================] - 1s 66ms/step - loss: 0.4355\n",
      "Epoch 70/100\n",
      "10/10 [==============================] - 1s 67ms/step - loss: 0.4299\n",
      "Epoch 71/100\n",
      "10/10 [==============================] - 1s 80ms/step - loss: 0.4298\n",
      "Epoch 72/100\n",
      "10/10 [==============================] - 1s 67ms/step - loss: 0.4266\n",
      "Epoch 73/100\n",
      "10/10 [==============================] - 1s 66ms/step - loss: 0.4226\n",
      "Epoch 74/100\n",
      "10/10 [==============================] - 1s 66ms/step - loss: 0.4220\n",
      "Epoch 75/100\n",
      "10/10 [==============================] - 1s 67ms/step - loss: 0.4156\n",
      "Epoch 76/100\n",
      "10/10 [==============================] - 1s 65ms/step - loss: 0.4122\n",
      "Epoch 77/100\n",
      "10/10 [==============================] - 1s 64ms/step - loss: 0.4107\n",
      "Epoch 78/100\n",
      "10/10 [==============================] - 1s 66ms/step - loss: 0.4076\n",
      "Epoch 79/100\n",
      "10/10 [==============================] - 1s 67ms/step - loss: 0.4040\n",
      "Epoch 80/100\n",
      "10/10 [==============================] - 1s 70ms/step - loss: 0.4046\n",
      "Epoch 81/100\n",
      "10/10 [==============================] - 1s 64ms/step - loss: 0.3993\n",
      "Epoch 82/100\n",
      "10/10 [==============================] - 1s 71ms/step - loss: 0.3971\n",
      "Epoch 83/100\n",
      "10/10 [==============================] - 1s 68ms/step - loss: 0.3933\n",
      "Epoch 84/100\n",
      "10/10 [==============================] - 1s 62ms/step - loss: 0.3886\n",
      "Epoch 85/100\n",
      "10/10 [==============================] - 1s 61ms/step - loss: 0.3885\n",
      "Epoch 86/100\n",
      "10/10 [==============================] - 1s 60ms/step - loss: 0.3876\n",
      "Epoch 87/100\n",
      "10/10 [==============================] - 1s 62ms/step - loss: 0.3840\n",
      "Epoch 88/100\n",
      "10/10 [==============================] - 1s 60ms/step - loss: 0.3833\n",
      "Epoch 89/100\n",
      "10/10 [==============================] - 1s 64ms/step - loss: 0.3793\n",
      "Epoch 90/100\n",
      "10/10 [==============================] - 1s 55ms/step - loss: 0.3780\n",
      "Epoch 91/100\n",
      "10/10 [==============================] - 1s 59ms/step - loss: 0.3752\n",
      "Epoch 92/100\n",
      "10/10 [==============================] - 1s 65ms/step - loss: 0.3744\n",
      "Epoch 93/100\n",
      "10/10 [==============================] - 1s 67ms/step - loss: 0.3696\n",
      "Epoch 94/100\n",
      "10/10 [==============================] - 1s 73ms/step - loss: 0.3691\n",
      "Epoch 95/100\n",
      "10/10 [==============================] - 1s 65ms/step - loss: 0.3681\n",
      "Epoch 96/100\n",
      "10/10 [==============================] - 1s 68ms/step - loss: 0.3649\n",
      "Epoch 97/100\n",
      "10/10 [==============================] - 1s 77ms/step - loss: 0.3640\n",
      "Epoch 98/100\n",
      "10/10 [==============================] - 1s 68ms/step - loss: 0.3600\n",
      "Epoch 99/100\n",
      "10/10 [==============================] - 1s 72ms/step - loss: 0.3628\n",
      "Epoch 100/100\n",
      "10/10 [==============================] - 1s 75ms/step - loss: 0.3579\n"
     ]
    }
   ],
   "source": [
    "tf_hist = tf_model.fit(train_x, train_y, epochs=100, batch_size=4096, verbose=1)"
   ]
  },
  {
   "cell_type": "code",
   "execution_count": 15,
   "metadata": {},
   "outputs": [
    {
     "data": {
      "image/png": "[encoded data removed]",
      "text/plain": [
       "<Figure size 640x480 with 1 Axes>"
      ]
     },
     "metadata": {},
     "output_type": "display_data"
    }
   ],
   "source": [
    "plt.plot(tf_hist.history['loss'])\n",
    "plt.show()"
   ]
  },
  {
   "cell_type": "code",
   "execution_count": 16,
   "metadata": {},
   "outputs": [
    {
     "name": "stdout",
     "output_type": "stream",
     "text": [
      "313/313 [==============================] - 1s 2ms/step - loss: 0.2963\n"
     ]
    },
    {
     "data": {
      "text/plain": [
       "0.2963334918022156"
      ]
     },
     "execution_count": 16,
     "metadata": {},
     "output_type": "execute_result"
    }
   ],
   "source": [
    "tf_model.evaluate(test_x, test_y)"
   ]
  },
  {
   "cell_type": "code",
   "execution_count": null,
   "metadata": {},
   "outputs": [],
   "source": []
  }
 ],
 "metadata": {
  "kernelspec": {
   "display_name": "lab",
   "language": "python",
   "name": "python3"
  },
  "language_info": {
   "codemirror_mode": {
    "name": "ipython",
    "version": 3
   },
   "file_extension": ".py",
   "mimetype": "text/x-python",
   "name": "python",
   "nbconvert_exporter": "python",
   "pygments_lexer": "ipython3",
   "version": "3.9.0"
  }
 },
 "nbformat": 4,
 "nbformat_minor": 2
}
