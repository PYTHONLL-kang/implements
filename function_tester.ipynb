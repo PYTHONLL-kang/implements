{
 "cells": [
  {
   "cell_type": "code",
   "execution_count": 1,
   "metadata": {},
   "outputs": [],
   "source": [
    "## todo\n",
    "# README.md\n",
    "# optimizer : learning rate scheduler\n",
    "# layer : rnn, batch normalization\n",
    "# analysis : validation error\n",
    "# fit : callbacks\n",
    "\n",
    "# tf -> custom calcuration program"
   ]
  },
  {
   "cell_type": "code",
   "execution_count": 2,
   "metadata": {},
   "outputs": [
    {
     "name": "stderr",
     "output_type": "stream",
     "text": [
      "2024-04-17 15:03:40.403574: I tensorflow/core/platform/cpu_feature_guard.cc:182] This TensorFlow binary is optimized to use available CPU instructions in performance-critical operations.\n",
      "To enable the following instructions: SSE4.1 SSE4.2 AVX AVX2 FMA, in other operations, rebuild TensorFlow with the appropriate compiler flags.\n"
     ]
    }
   ],
   "source": [
    "import tensorflow as tf\n",
    "import numpy as np\n",
    "import matplotlib.pyplot as plt\n",
    "\n",
    "import k.Activations.functions as Activations\n",
    "import k.Layers.functions as Layers\n",
    "import k.Losses.functions as Losses\n",
    "import k.Optimizers.functions as Optimizers\n",
    "import k.Networks.functions as Networks"
   ]
  },
  {
   "cell_type": "code",
   "execution_count": 3,
   "metadata": {},
   "outputs": [
    {
     "name": "stdout",
     "output_type": "stream",
     "text": [
      "WARNING:tensorflow:Mixed precision compatibility check (mixed_float16): WARNING\n",
      "The dtype policy mixed_float16 may run slowly because this machine does not have a GPU. Only Nvidia GPUs with compute capability of at least 7.0 run quickly with mixed_float16.\n",
      "If you will use compatible GPU(s) not attached to this host, e.g. by running a multi-worker model, you can ignore this warning. This message will only be logged once\n"
     ]
    }
   ],
   "source": [
    "policy = tf.keras.mixed_precision.Policy('mixed_float16')\n",
    "tf.keras.mixed_precision.set_global_policy(policy)"
   ]
  },
  {
   "cell_type": "code",
   "execution_count": 4,
   "metadata": {},
   "outputs": [],
   "source": [
    "# (x_train, y_train), (x_test, y_test) = tf.keras.datasets.mnist.load_data()\n",
    "\n",
    "# x_train = x_train.reshape(x_train.shape + (1,))[0:1000]\n",
    "# y_train = y_train.reshape(y_train.shape + (1,))[0:1000]\n",
    "# x_test = x_test.reshape(x_test.shape + (1,))[0:100]\n",
    "# y_test = y_test.reshape(y_test.shape + (1,))[0:100]\n",
    "\n",
    "# x_train = np.divide(x_train, 255)\n",
    "# x_test = np.divide(x_test, 255)\n",
    "# y_train = tf.keras.utils.to_categorical(y_train, 10)\n",
    "# y_test = tf.keras.utils.to_categorical(y_test, 10)"
   ]
  },
  {
   "cell_type": "code",
   "execution_count": 5,
   "metadata": {},
   "outputs": [],
   "source": [
    "x_train = np.random.normal(loc=0.0, scale=1.0, size=(100, 15, 15, 1))\n",
    "x_test = np.random.normal(loc=0.0, scale=1.0, size=(10, 15, 15, 1))\n",
    "y_train = np.random.randint(0, 10, size=(100, 10))\n",
    "y_test = np.random.randint(0, 10, size=(10, 10))"
   ]
  },
  {
   "cell_type": "code",
   "execution_count": 6,
   "metadata": {},
   "outputs": [
    {
     "name": "stderr",
     "output_type": "stream",
     "text": [
      "2024-04-17 15:03:43.377960: I tensorflow/core/common_runtime/process_util.cc:146] Creating new thread pool with default inter op setting: 2. Tune using inter_op_parallelism_threads for best performance.\n"
     ]
    }
   ],
   "source": [
    "model = Networks.Neural_network()\n",
    "model.network.append(Layers.Convolution2D(input_shape=x_train.shape[1::], filters=128, kernel_shape=(3, 3)))\n",
    "model.network.append(Activations.ReLU())\n",
    "model.network.append(Layers.Pooling2D(pool_type='max'))\n",
    "model.network.append(Layers.Convolution2D(filters=64, kernel_shape=(2, 2)))\n",
    "model.network.append(Activations.ReLU())\n",
    "model.network.append(Layers.Flatten())\n",
    "model.network.append(Layers.Dense(output_shape=32))\n",
    "model.network.append(Activations.ReLU())\n",
    "model.network.append(Layers.Dense(output_shape=10))\n",
    "model.network.append(Activations.Softmax())\n",
    "\n",
    "optimizer = Optimizers.Adam(learning_rate=1e-4)\n",
    "model.compile('cce', optimizer, metrics='mae')"
   ]
  },
  {
   "cell_type": "code",
   "execution_count": 7,
   "metadata": {},
   "outputs": [
    {
     "data": {
      "text/plain": [
       "{'loss': <tf.Tensor: shape=(), dtype=float32, numpy=76.34045>, 'metrics': []}"
      ]
     },
     "execution_count": 7,
     "metadata": {},
     "output_type": "execute_result"
    }
   ],
   "source": [
    "model.evaluate(x_test, y_test)"
   ]
  },
  {
   "cell_type": "code",
   "execution_count": 8,
   "metadata": {},
   "outputs": [
    {
     "name": "stdout",
     "output_type": "stream",
     "text": [
      "epoch: 01  | loss : 66.0960  | val_loss : 70.4103  | metrics : 4.2103\n",
      "epoch: 02  | loss : 63.9960  | val_loss : 65.8657  | metrics : 4.3044\n",
      "epoch: 03  | loss : 61.5220  | val_loss : 55.6092  | metrics : 4.3020\n",
      "epoch: 04  | loss : 54.6576  | val_loss : 56.5551  | metrics : 4.2745\n",
      "epoch: 05  | loss : 56.4006  | val_loss : 59.9317  | metrics : 4.5497\n",
      "epoch: 06  | loss : 53.2492  | val_loss : 59.4326  | metrics : 4.2381\n",
      "epoch: 07  | loss : 53.0963  | val_loss : 56.7270  | metrics : 4.2731\n",
      "epoch: 08  | loss : 49.2910  | val_loss : 53.4231  | metrics : 4.2538\n",
      "epoch: 09  | loss : 44.9988  | val_loss : 49.5298  | metrics : 4.2563\n",
      "epoch: 10  | loss : 44.3898  | val_loss : 45.5560  | metrics : 4.4305\n"
     ]
    }
   ],
   "source": [
    "hist = model.fit(x_train, y_train, batch_size=256, epochs=10, verbose=1, validation_data=(x_test, y_test))"
   ]
  },
  {
   "cell_type": "code",
   "execution_count": 9,
   "metadata": {},
   "outputs": [
    {
     "data": {
      "image/png": "[encoded data removed]",
      "text/plain": [
       "<Figure size 640x480 with 1 Axes>"
      ]
     },
     "metadata": {},
     "output_type": "display_data"
    }
   ],
   "source": [
    "plt.plot(hist['loss'], label='loss')\n",
    "plt.plot(hist['val_loss'], label='val_loss')\n",
    "plt.legend()\n",
    "plt.show()"
   ]
  },
  {
   "cell_type": "code",
   "execution_count": 10,
   "metadata": {},
   "outputs": [
    {
     "data": {
      "text/plain": [
       "{'loss': <tf.Tensor: shape=(), dtype=float32, numpy=45.556034>, 'metrics': []}"
      ]
     },
     "execution_count": 10,
     "metadata": {},
     "output_type": "execute_result"
    }
   ],
   "source": [
    "model.evaluate(x_test, y_test)"
   ]
  },
  {
   "cell_type": "markdown",
   "metadata": {},
   "source": [
    "### make tensorflow model to compare"
   ]
  },
  {
   "cell_type": "code",
   "execution_count": 11,
   "metadata": {},
   "outputs": [],
   "source": [
    "tf_model = tf.keras.Sequential()\n",
    "tf_model.add(tf.keras.layers.Conv2D(128, input_shape=x_train.shape[1::], kernel_size=3, activation='relu'))\n",
    "tf_model.add(tf.keras.layers.MaxPooling2D())\n",
    "tf_model.add(tf.keras.layers.Conv2D(64, kernel_size=2, activation='relu'))\n",
    "tf_model.add(tf.keras.layers.Flatten())\n",
    "tf_model.add(tf.keras.layers.Dense(32, activation='relu'))\n",
    "tf_model.add(tf.keras.layers.Dense(10, activation='softmax'))\n",
    "\n",
    "optimizer = tf.keras.optimizers.Adam(learning_rate=1e-4)\n",
    "tf_model.compile(loss='categorical_crossentropy', optimizer=optimizer, metrics=['mae'])"
   ]
  },
  {
   "cell_type": "code",
   "execution_count": 12,
   "metadata": {},
   "outputs": [
    {
     "name": "stdout",
     "output_type": "stream",
     "text": [
      "1/1 [==============================] - 0s 231ms/step - loss: 110.8125 - mae: 4.7031\n"
     ]
    },
    {
     "data": {
      "text/plain": [
       "[110.8125, 4.703092098236084]"
      ]
     },
     "execution_count": 12,
     "metadata": {},
     "output_type": "execute_result"
    }
   ],
   "source": [
    "tf_model.evaluate(x_test, y_test)"
   ]
  },
  {
   "cell_type": "code",
   "execution_count": 13,
   "metadata": {},
   "outputs": [
    {
     "name": "stdout",
     "output_type": "stream",
     "text": [
      "Epoch 1/10\n",
      "1/1 [==============================] - 1s 1s/step - loss: 103.3750 - mae: 4.3528 - val_loss: 110.8125 - val_mae: 4.7031\n",
      "Epoch 2/10\n",
      "1/1 [==============================] - 0s 398ms/step - loss: 103.1875 - mae: 4.3528 - val_loss: 110.8125 - val_mae: 4.7031\n",
      "Epoch 3/10\n",
      "1/1 [==============================] - 0s 396ms/step - loss: 103.4375 - mae: 4.3528 - val_loss: 110.8125 - val_mae: 4.7032\n",
      "Epoch 4/10\n",
      "1/1 [==============================] - 0s 396ms/step - loss: 103.2500 - mae: 4.3528 - val_loss: 110.8750 - val_mae: 4.7034\n",
      "Epoch 5/10\n",
      "1/1 [==============================] - 0s 396ms/step - loss: 103.2500 - mae: 4.3529 - val_loss: 111.0000 - val_mae: 4.7035\n",
      "Epoch 6/10\n",
      "1/1 [==============================] - 0s 396ms/step - loss: 103.1250 - mae: 4.3529 - val_loss: 111.1250 - val_mae: 4.7036\n",
      "Epoch 7/10\n",
      "1/1 [==============================] - 0s 405ms/step - loss: 103.6875 - mae: 4.3529 - val_loss: 111.3125 - val_mae: 4.7038\n",
      "Epoch 8/10\n",
      "1/1 [==============================] - 0s 397ms/step - loss: 103.6250 - mae: 4.3529 - val_loss: 111.3750 - val_mae: 4.7039\n",
      "Epoch 9/10\n",
      "1/1 [==============================] - 0s 396ms/step - loss: 103.6250 - mae: 4.3530 - val_loss: 111.6250 - val_mae: 4.7040\n",
      "Epoch 10/10\n",
      "1/1 [==============================] - 0s 399ms/step - loss: 103.8125 - mae: 4.3530 - val_loss: 111.6875 - val_mae: 4.7042\n"
     ]
    }
   ],
   "source": [
    "tf_hist = tf_model.fit(x_train, y_train, epochs=10, batch_size=256, verbose=1, validation_data=(x_test, y_test))"
   ]
  },
  {
   "cell_type": "code",
   "execution_count": 14,
   "metadata": {},
   "outputs": [
    {
     "data": {
      "image/png": "[encoded data removed]",
      "text/plain": [
       "<Figure size 640x480 with 1 Axes>"
      ]
     },
     "metadata": {},
     "output_type": "display_data"
    }
   ],
   "source": [
    "plt.plot(tf_hist.history['loss'], label='loss')\n",
    "plt.plot(tf_hist.history['val_loss'], label='val_loss')\n",
    "plt.legend()\n",
    "plt.show()"
   ]
  },
  {
   "cell_type": "code",
   "execution_count": 15,
   "metadata": {},
   "outputs": [
    {
     "name": "stdout",
     "output_type": "stream",
     "text": [
      "1/1 [==============================] - 0s 28ms/step - loss: 111.6875 - mae: 4.7042\n"
     ]
    },
    {
     "data": {
      "text/plain": [
       "[111.6875, 4.704154014587402]"
      ]
     },
     "execution_count": 15,
     "metadata": {},
     "output_type": "execute_result"
    }
   ],
   "source": [
    "tf_model.evaluate(x_test, y_test)"
   ]
  },
  {
   "cell_type": "code",
   "execution_count": null,
   "metadata": {},
   "outputs": [],
   "source": []
  }
 ],
 "metadata": {
  "kernelspec": {
   "display_name": "lab",
   "language": "python",
   "name": "python3"
  },
  "language_info": {
   "codemirror_mode": {
    "name": "ipython",
    "version": 3
   },
   "file_extension": ".py",
   "mimetype": "text/x-python",
   "name": "python",
   "nbconvert_exporter": "python",
   "pygments_lexer": "ipython3",
   "version": "3.9.18"
  }
 },
 "nbformat": 4,
 "nbformat_minor": 2
}
