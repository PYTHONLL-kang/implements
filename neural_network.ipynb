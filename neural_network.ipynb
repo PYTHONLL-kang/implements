{
 "cells": [
  {
   "cell_type": "code",
   "execution_count": 1,
   "metadata": {},
   "outputs": [],
   "source": [
    "import tensorflow as tf\n",
    "import numpy as np\n",
    "import matplotlib.pyplot as plt"
   ]
  },
  {
   "cell_type": "code",
   "execution_count": 2,
   "metadata": {},
   "outputs": [],
   "source": [
    "class Function:\n",
    "    def __init__(self):\n",
    "        self.epsilon = 1e-7\n",
    "\n",
    "    def differentiate(self, data):\n",
    "        return tf.cast((self.calcurate(data+self.epsilon) - self.calcurate(data-self.epsilon)) / (2*self.epsilon), dtype=tf.float32)"
   ]
  },
  {
   "cell_type": "code",
   "execution_count": 3,
   "metadata": {},
   "outputs": [],
   "source": [
    "class Activation(Function):\n",
    "    def __init__(self, name):\n",
    "        super().__init__()\n",
    "\n",
    "        self.name = name\n",
    "        self.function_map = {'sigmoid' : self.sigmoid, 'relu' : self.relu, 'linear' : self.linear}\n",
    "        self.weight = np.zeros((1,1))\n",
    "\n",
    "    def sigmoid(self, data):\n",
    "        return tf.math.divide(1, (1 + tf.math.pow(np.e, -data)))\n",
    "\n",
    "    def relu(self, data):\n",
    "        return tf.math.maximum(0, data)\n",
    "\n",
    "    def linear(self, data):\n",
    "        return data\n",
    "\n",
    "    def calcurate(self, data): # activation\n",
    "        return self.function_map[self.name](data)"
   ]
  },
  {
   "cell_type": "code",
   "execution_count": 4,
   "metadata": {},
   "outputs": [],
   "source": [
    "class Loss(Function):\n",
    "    def __init__(self, name):\n",
    "        super().__init__()\n",
    "\n",
    "        self.name = name\n",
    "        self.function_map = {'mse' : self.meansquarederror, 'ce' : self.crossentropy}\n",
    "        self.actual = 0\n",
    "\n",
    "    def meansquarederror(self, predicted):\n",
    "        return tf.math.reduce_mean(tf.math.pow(self.actual - predicted, 2))\n",
    "\n",
    "    def crossentropy(self, predicted):\n",
    "        return -tf.math.reduce_sum(self.actual*tf.math.log(predicted))\n",
    "\n",
    "    def calcurate(self, data):\n",
    "        return self.function_map[self.name](data)"
   ]
  },
  {
   "cell_type": "code",
   "execution_count": 5,
   "metadata": {},
   "outputs": [],
   "source": [
    "class Optimizer:\n",
    "    def __init__(self, learning_rate=1e-4):\n",
    "        self.learning_rate = learning_rate\n",
    "\n",
    "    def optimize(self, value):\n",
    "        return self.learning_rate * value"
   ]
  },
  {
   "cell_type": "code",
   "execution_count": 6,
   "metadata": {},
   "outputs": [],
   "source": [
    "class Dense:\n",
    "    def __init__(self, input_shape, output_shape, initializer=\"lecun\", activation=\"linear\"):\n",
    "        self.name = \"dense\"\n",
    "        self.is_output_layer = False\n",
    "\n",
    "        self.activation = Activation(activation.lower())\n",
    "\n",
    "        initializer_map = {\"xavier\" : 2/(input_shape + output_shape), \"he\" : 2/input_shape}\n",
    "        weight_stddev = initializer_map.get(initializer.lower(), 1/input_shape)\n",
    "\n",
    "        self.weight = tf.Variable(tf.random.normal(shape=(input_shape, output_shape), mean=0, stddev=weight_stddev, dtype=tf.float32))\n",
    "        self.bias = tf.Variable(tf.random.normal(shape=(1, output_shape), mean=0, stddev=0.01, dtype=tf.float32))\n",
    "        self.optimizer = Optimizer()\n",
    "    \n",
    "    def calcurate(self, data): # propagation\n",
    "        layer_output = tf.math.add(tf.matmul(data, self.weight), self.bias)\n",
    "        activation_output = self.activation.calcurate(layer_output)\n",
    "        return layer_output, activation_output\n",
    "\n",
    "    def backpropagate(self, gradient, inputs, outputs):\n",
    "        layer_gradient = tf.math.multiply(outputs, gradient)\n",
    "        weight_gradient = tf.matmul(tf.transpose(inputs), layer_gradient)\n",
    "        bias_gradient = tf.math.reduce_sum(layer_gradient, axis=0, keepdims=True)\n",
    "\n",
    "        self.weight.assign_sub(self.optimizer.optimize(weight_gradient))\n",
    "        self.bias.assign_sub(self.optimizer.optimize(bias_gradient))\n",
    "\n",
    "        return tf.matmul(layer_gradient, tf.transpose(self.weight))"
   ]
  },
  {
   "cell_type": "code",
   "execution_count": 7,
   "metadata": {},
   "outputs": [],
   "source": [
    "class Neural_network:\n",
    "    def __init__(self):\n",
    "        self.network = []\n",
    "\n",
    "    def compile(self, loss_name, optimizer_config):\n",
    "        self.loss_function = Loss(loss_name)\n",
    "        self.optimizer = Optimizer(optimizer_config)\n",
    "\n",
    "        for layer in self.network:\n",
    "            layer.optimizer = self.optimizer\n",
    "        self.network[-1].is_output_layer = True\n",
    "\n",
    "        self.network_depth = len(self.network)\n",
    "\n",
    "    def predict(self, data):\n",
    "        self.calcuration_graph = [data]\n",
    "\n",
    "        for layer in self.network:\n",
    "            hidden_data, data = layer.calcurate(data)\n",
    "            self.calcuration_graph.append(hidden_data)\n",
    "\n",
    "        return data\n",
    "\n",
    "    def evaluate(self, x, y):\n",
    "        self.loss_function.actual = y\n",
    "        loss = self.loss_function.calcurate(self.predict(x))\n",
    "        return loss\n",
    "\n",
    "    def fit(self, x, y, batch_size, epochs, verbose):\n",
    "        loss_graph = []\n",
    "\n",
    "        data_num = x.shape[0]\n",
    "        mini_batch_num = data_num//batch_size\n",
    "        epoch_digits = len(str(epochs))\n",
    "\n",
    "        for epoch in range(epochs):\n",
    "            for batch in range(mini_batch_num):\n",
    "                index = np.random.randint(data_num, size=batch_size)\n",
    "                batch_x = x[index, :]\n",
    "                batch_y = y[index, :]\n",
    "\n",
    "                prediction = self.predict(batch_x)\n",
    "                self.loss_function.actual = batch_y\n",
    "\n",
    "                gradient = self.loss_function.differentiate(prediction)\n",
    "                for i in range(self.network_depth):\n",
    "                    gradient = self.network[-i-1].backpropagate(gradient, self.calcuration_graph[-i-2], self.calcuration_graph[-i-1])\n",
    "\n",
    "                loss = self.loss_function.calcurate(prediction)\n",
    "\n",
    "                if verbose == 2:\n",
    "                    print(f\"epoch: {epoch:0{epoch_digits}d}, batch: {batch}/{mini_batch_num} |, loss: \", f'{loss:.4f}' if loss <= 0.0001 else f'{loss:.4e}')\n",
    "\n",
    "            if verbose == 1:\n",
    "                print(f\"epoch: {epoch:0{epoch_digits}d} |, loss: \", f'{loss:.4f}' if loss > 0.0001 else f'{loss:.4e}')\n",
    "\n",
    "            loss_graph.append(loss)\n",
    "\n",
    "        self.loss_function.actual = 0\n",
    "        return np.array(loss_graph)"
   ]
  },
  {
   "cell_type": "code",
   "execution_count": 8,
   "metadata": {},
   "outputs": [],
   "source": [
    "x = np.array([[i] for i in range(100) for j in range(100)], dtype=np.float32) / 100\n",
    "y = x + 0.1"
   ]
  },
  {
   "cell_type": "code",
   "execution_count": 9,
   "metadata": {},
   "outputs": [
    {
     "name": "stderr",
     "output_type": "stream",
     "text": [
      "2024-01-21 10:55:12.257218: I tensorflow/core/platform/cpu_feature_guard.cc:193] This TensorFlow binary is optimized with oneAPI Deep Neural Network Library (oneDNN) to use the following CPU instructions in performance-critical operations:  SSE4.1 SSE4.2 AVX AVX2 FMA\n",
      "To enable them in other operations, rebuild TensorFlow with the appropriate compiler flags.\n",
      "2024-01-21 10:55:12.258586: I tensorflow/core/common_runtime/process_util.cc:146] Creating new thread pool with default inter op setting: 2. Tune using inter_op_parallelism_threads for best performance.\n"
     ]
    }
   ],
   "source": [
    "model = Neural_network()\n",
    "model.network.append(Dense(input_shape=1, output_shape=64, activation='relu'))\n",
    "model.network.append(Dense(input_shape=64, output_shape=32, activation='relu'))\n",
    "model.network.append(Dense(input_shape=32, output_shape=1, activation='linear'))\n",
    "\n",
    "model.compile('mse', 1e-4)"
   ]
  },
  {
   "cell_type": "code",
   "execution_count": 10,
   "metadata": {},
   "outputs": [
    {
     "data": {
      "text/plain": [
       "<tf.Tensor: shape=(), dtype=float32, numpy=0.41608456>"
      ]
     },
     "execution_count": 10,
     "metadata": {},
     "output_type": "execute_result"
    }
   ],
   "source": [
    "model.evaluate(x, y)"
   ]
  },
  {
   "cell_type": "code",
   "execution_count": 11,
   "metadata": {},
   "outputs": [
    {
     "name": "stdout",
     "output_type": "stream",
     "text": [
      "epoch: 000 |, loss:  0.4658\n",
      "epoch: 001 |, loss:  0.2640\n",
      "epoch: 002 |, loss:  0.1277\n",
      "epoch: 003 |, loss:  0.0879\n",
      "epoch: 004 |, loss:  0.0665\n",
      "epoch: 005 |, loss:  0.0612\n",
      "epoch: 006 |, loss:  0.0680\n",
      "epoch: 007 |, loss:  0.0722\n",
      "epoch: 008 |, loss:  0.0732\n",
      "epoch: 009 |, loss:  0.0879\n",
      "epoch: 010 |, loss:  0.0837\n",
      "epoch: 011 |, loss:  0.0831\n",
      "epoch: 012 |, loss:  0.0962\n",
      "epoch: 013 |, loss:  0.0748\n",
      "epoch: 014 |, loss:  0.0851\n",
      "epoch: 015 |, loss:  0.0910\n",
      "epoch: 016 |, loss:  0.0672\n",
      "epoch: 017 |, loss:  0.0626\n",
      "epoch: 018 |, loss:  0.0667\n",
      "epoch: 019 |, loss:  0.0669\n",
      "epoch: 020 |, loss:  0.0773\n",
      "epoch: 021 |, loss:  0.0731\n",
      "epoch: 022 |, loss:  0.0723\n",
      "epoch: 023 |, loss:  0.0730\n",
      "epoch: 024 |, loss:  0.0735\n",
      "epoch: 025 |, loss:  0.0771\n",
      "epoch: 026 |, loss:  0.1032\n",
      "epoch: 027 |, loss:  0.0670\n",
      "epoch: 028 |, loss:  0.0632\n",
      "epoch: 029 |, loss:  0.0767\n",
      "epoch: 030 |, loss:  0.0813\n",
      "epoch: 031 |, loss:  0.0777\n",
      "epoch: 032 |, loss:  0.0578\n",
      "epoch: 033 |, loss:  0.0745\n",
      "epoch: 034 |, loss:  0.0763\n",
      "epoch: 035 |, loss:  0.0706\n",
      "epoch: 036 |, loss:  0.0773\n",
      "epoch: 037 |, loss:  0.0701\n",
      "epoch: 038 |, loss:  0.0523\n",
      "epoch: 039 |, loss:  0.0899\n",
      "epoch: 040 |, loss:  0.0765\n",
      "epoch: 041 |, loss:  0.0761\n",
      "epoch: 042 |, loss:  0.0675\n",
      "epoch: 043 |, loss:  0.0774\n",
      "epoch: 044 |, loss:  0.0728\n",
      "epoch: 045 |, loss:  0.0780\n",
      "epoch: 046 |, loss:  0.0725\n",
      "epoch: 047 |, loss:  0.0698\n",
      "epoch: 048 |, loss:  0.0690\n",
      "epoch: 049 |, loss:  0.0778\n",
      "epoch: 050 |, loss:  0.0576\n",
      "epoch: 051 |, loss:  0.0844\n",
      "epoch: 052 |, loss:  0.0761\n",
      "epoch: 053 |, loss:  0.0688\n",
      "epoch: 054 |, loss:  0.0758\n",
      "epoch: 055 |, loss:  0.0861\n",
      "epoch: 056 |, loss:  0.0752\n",
      "epoch: 057 |, loss:  0.0769\n",
      "epoch: 058 |, loss:  0.0631\n",
      "epoch: 059 |, loss:  0.0858\n",
      "epoch: 060 |, loss:  0.0912\n",
      "epoch: 061 |, loss:  0.0759\n",
      "epoch: 062 |, loss:  0.0869\n",
      "epoch: 063 |, loss:  0.0767\n",
      "epoch: 064 |, loss:  0.0692\n",
      "epoch: 065 |, loss:  0.0672\n",
      "epoch: 066 |, loss:  0.0700\n",
      "epoch: 067 |, loss:  0.0686\n",
      "epoch: 068 |, loss:  0.0643\n",
      "epoch: 069 |, loss:  0.0666\n",
      "epoch: 070 |, loss:  0.0854\n",
      "epoch: 071 |, loss:  0.0702\n",
      "epoch: 072 |, loss:  0.0826\n",
      "epoch: 073 |, loss:  0.0520\n",
      "epoch: 074 |, loss:  0.0754\n",
      "epoch: 075 |, loss:  0.0791\n",
      "epoch: 076 |, loss:  0.0788\n",
      "epoch: 077 |, loss:  0.0630\n",
      "epoch: 078 |, loss:  0.0565\n",
      "epoch: 079 |, loss:  0.0577\n",
      "epoch: 080 |, loss:  0.0770\n",
      "epoch: 081 |, loss:  0.0752\n",
      "epoch: 082 |, loss:  0.0618\n",
      "epoch: 083 |, loss:  0.0691\n",
      "epoch: 084 |, loss:  0.0752\n",
      "epoch: 085 |, loss:  0.0714\n",
      "epoch: 086 |, loss:  0.0674\n",
      "epoch: 087 |, loss:  0.0713\n",
      "epoch: 088 |, loss:  0.0752\n",
      "epoch: 089 |, loss:  0.0746\n",
      "epoch: 090 |, loss:  0.0778\n",
      "epoch: 091 |, loss:  0.0703\n",
      "epoch: 092 |, loss:  0.0719\n",
      "epoch: 093 |, loss:  0.0648\n",
      "epoch: 094 |, loss:  0.0670\n",
      "epoch: 095 |, loss:  0.0571\n",
      "epoch: 096 |, loss:  0.0694\n",
      "epoch: 097 |, loss:  0.0751\n",
      "epoch: 098 |, loss:  0.0884\n",
      "epoch: 099 |, loss:  0.0752\n"
     ]
    }
   ],
   "source": [
    "hist = model.fit(x, y, batch_size=64, epochs=100, verbose=1)"
   ]
  },
  {
   "cell_type": "code",
   "execution_count": 12,
   "metadata": {},
   "outputs": [
    {
     "data": {
      "image/png": "[encoded data removed]",
      "text/plain": [
       "<Figure size 640x480 with 1 Axes>"
      ]
     },
     "metadata": {},
     "output_type": "display_data"
    }
   ],
   "source": [
    "plt.plot(hist)\n",
    "plt.show()"
   ]
  },
  {
   "cell_type": "code",
   "execution_count": 13,
   "metadata": {},
   "outputs": [
    {
     "data": {
      "text/plain": [
       "<tf.Tensor: shape=(), dtype=float32, numpy=0.06933919>"
      ]
     },
     "execution_count": 13,
     "metadata": {},
     "output_type": "execute_result"
    }
   ],
   "source": [
    "model.evaluate(x, y)"
   ]
  },
  {
   "cell_type": "markdown",
   "metadata": {},
   "source": [
    "make tensorflow model to compare"
   ]
  },
  {
   "cell_type": "code",
   "execution_count": 14,
   "metadata": {},
   "outputs": [],
   "source": [
    "tf_model = tf.keras.Sequential()\n",
    "tf_model.add(tf.keras.layers.Dense(64, activation='relu'))\n",
    "tf_model.add(tf.keras.layers.Dense(32, activation='relu'))\n",
    "tf_model.add(tf.keras.layers.Dense(1, activation='linear'))\n",
    "\n",
    "tf_model.compile(loss='mse', optimizer='sgd')"
   ]
  },
  {
   "cell_type": "code",
   "execution_count": 15,
   "metadata": {},
   "outputs": [
    {
     "name": "stdout",
     "output_type": "stream",
     "text": [
      "313/313 [==============================] - 1s 2ms/step - loss: 0.3684\n"
     ]
    },
    {
     "data": {
      "text/plain": [
       "0.3684169352054596"
      ]
     },
     "execution_count": 15,
     "metadata": {},
     "output_type": "execute_result"
    }
   ],
   "source": [
    "tf_model.evaluate(x, y)"
   ]
  },
  {
   "cell_type": "code",
   "execution_count": 16,
   "metadata": {},
   "outputs": [
    {
     "name": "stdout",
     "output_type": "stream",
     "text": [
      "Epoch 1/100\n"
     ]
    },
    {
     "name": "stdout",
     "output_type": "stream",
     "text": [
      "157/157 [==============================] - 1s 3ms/step - loss: 0.0554\n",
      "Epoch 2/100\n",
      "157/157 [==============================] - 0s 2ms/step - loss: 0.0141\n",
      "Epoch 3/100\n",
      "157/157 [==============================] - 0s 2ms/step - loss: 0.0055\n",
      "Epoch 4/100\n",
      "157/157 [==============================] - 0s 2ms/step - loss: 0.0019\n",
      "Epoch 5/100\n",
      "157/157 [==============================] - 0s 2ms/step - loss: 5.9862e-04\n",
      "Epoch 6/100\n",
      "157/157 [==============================] - 0s 2ms/step - loss: 1.7811e-04\n",
      "Epoch 7/100\n",
      "157/157 [==============================] - 1s 4ms/step - loss: 5.3882e-05\n",
      "Epoch 8/100\n",
      "157/157 [==============================] - 0s 2ms/step - loss: 1.8451e-05\n",
      "Epoch 9/100\n",
      "157/157 [==============================] - 0s 2ms/step - loss: 8.3898e-06\n",
      "Epoch 10/100\n",
      "157/157 [==============================] - 1s 3ms/step - loss: 5.3966e-06\n",
      "Epoch 11/100\n",
      "157/157 [==============================] - 1s 4ms/step - loss: 4.3236e-06\n",
      "Epoch 12/100\n",
      "157/157 [==============================] - 0s 3ms/step - loss: 3.7917e-06\n",
      "Epoch 13/100\n",
      "157/157 [==============================] - 0s 2ms/step - loss: 3.4464e-06\n",
      "Epoch 14/100\n",
      "157/157 [==============================] - 0s 2ms/step - loss: 3.1764e-06\n",
      "Epoch 15/100\n",
      "157/157 [==============================] - 0s 2ms/step - loss: 2.9337e-06\n",
      "Epoch 16/100\n",
      "157/157 [==============================] - 0s 2ms/step - loss: 2.7329e-06\n",
      "Epoch 17/100\n",
      "157/157 [==============================] - 0s 2ms/step - loss: 2.5637e-06\n",
      "Epoch 18/100\n",
      "157/157 [==============================] - 0s 2ms/step - loss: 2.4067e-06\n",
      "Epoch 19/100\n",
      "157/157 [==============================] - 0s 2ms/step - loss: 2.2640e-06\n",
      "Epoch 20/100\n",
      "157/157 [==============================] - 0s 2ms/step - loss: 2.1369e-06\n",
      "Epoch 21/100\n",
      "157/157 [==============================] - 0s 3ms/step - loss: 2.0203e-06\n",
      "Epoch 22/100\n",
      "157/157 [==============================] - 0s 2ms/step - loss: 1.9107e-06\n",
      "Epoch 23/100\n",
      "157/157 [==============================] - 1s 4ms/step - loss: 1.8082e-06\n",
      "Epoch 24/100\n",
      "157/157 [==============================] - 0s 3ms/step - loss: 1.7118e-06\n",
      "Epoch 25/100\n",
      "157/157 [==============================] - 0s 3ms/step - loss: 1.6208e-06\n",
      "Epoch 26/100\n",
      "157/157 [==============================] - 0s 2ms/step - loss: 1.5358e-06\n",
      "Epoch 27/100\n",
      "157/157 [==============================] - 0s 2ms/step - loss: 1.4604e-06\n",
      "Epoch 28/100\n",
      "157/157 [==============================] - 0s 2ms/step - loss: 1.3946e-06\n",
      "Epoch 29/100\n",
      "157/157 [==============================] - 0s 2ms/step - loss: 1.3316e-06\n",
      "Epoch 30/100\n",
      "157/157 [==============================] - 0s 2ms/step - loss: 1.2729e-06\n",
      "Epoch 31/100\n",
      "157/157 [==============================] - 0s 2ms/step - loss: 1.2169e-06\n",
      "Epoch 32/100\n",
      "157/157 [==============================] - 0s 2ms/step - loss: 1.1649e-06\n",
      "Epoch 33/100\n",
      "157/157 [==============================] - 0s 2ms/step - loss: 1.1173e-06\n",
      "Epoch 34/100\n",
      "157/157 [==============================] - 0s 2ms/step - loss: 1.0767e-06\n",
      "Epoch 35/100\n",
      "157/157 [==============================] - 0s 2ms/step - loss: 1.0388e-06\n",
      "Epoch 36/100\n",
      "157/157 [==============================] - 0s 2ms/step - loss: 1.0026e-06\n",
      "Epoch 37/100\n",
      "157/157 [==============================] - 0s 2ms/step - loss: 9.6747e-07\n",
      "Epoch 38/100\n",
      "157/157 [==============================] - 0s 2ms/step - loss: 9.3409e-07\n",
      "Epoch 39/100\n",
      "157/157 [==============================] - 0s 2ms/step - loss: 9.0169e-07\n",
      "Epoch 40/100\n",
      "157/157 [==============================] - 0s 2ms/step - loss: 8.7072e-07\n",
      "Epoch 41/100\n",
      "157/157 [==============================] - 0s 2ms/step - loss: 8.4111e-07\n",
      "Epoch 42/100\n",
      "157/157 [==============================] - 0s 2ms/step - loss: 8.1417e-07\n",
      "Epoch 43/100\n",
      "157/157 [==============================] - 1s 3ms/step - loss: 7.8868e-07\n",
      "Epoch 44/100\n",
      "157/157 [==============================] - 0s 2ms/step - loss: 7.6425e-07\n",
      "Epoch 45/100\n",
      "157/157 [==============================] - 0s 3ms/step - loss: 7.4071e-07\n",
      "Epoch 46/100\n",
      "157/157 [==============================] - 0s 3ms/step - loss: 7.1794e-07\n",
      "Epoch 47/100\n",
      "157/157 [==============================] - 0s 3ms/step - loss: 6.9601e-07\n",
      "Epoch 48/100\n",
      "157/157 [==============================] - 0s 3ms/step - loss: 6.7439e-07\n",
      "Epoch 49/100\n",
      "157/157 [==============================] - 0s 2ms/step - loss: 6.5367e-07\n",
      "Epoch 50/100\n",
      "157/157 [==============================] - 0s 2ms/step - loss: 6.3344e-07\n",
      "Epoch 51/100\n",
      "157/157 [==============================] - 0s 2ms/step - loss: 6.1386e-07\n",
      "Epoch 52/100\n",
      "157/157 [==============================] - 0s 2ms/step - loss: 5.9504e-07\n",
      "Epoch 53/100\n",
      "157/157 [==============================] - 0s 2ms/step - loss: 5.7723e-07\n",
      "Epoch 54/100\n",
      "157/157 [==============================] - 0s 2ms/step - loss: 5.5985e-07\n",
      "Epoch 55/100\n",
      "157/157 [==============================] - 0s 2ms/step - loss: 5.4294e-07\n",
      "Epoch 56/100\n",
      "157/157 [==============================] - 0s 2ms/step - loss: 5.2672e-07\n",
      "Epoch 57/100\n",
      "157/157 [==============================] - 0s 2ms/step - loss: 5.1121e-07\n",
      "Epoch 58/100\n",
      "157/157 [==============================] - 0s 2ms/step - loss: 4.9700e-07\n",
      "Epoch 59/100\n",
      "157/157 [==============================] - 0s 2ms/step - loss: 4.8354e-07\n",
      "Epoch 60/100\n",
      "157/157 [==============================] - 0s 2ms/step - loss: 4.7043e-07\n",
      "Epoch 61/100\n",
      "157/157 [==============================] - 0s 3ms/step - loss: 4.5783e-07\n",
      "Epoch 62/100\n",
      "157/157 [==============================] - 0s 3ms/step - loss: 4.4584e-07\n",
      "Epoch 63/100\n",
      "157/157 [==============================] - 0s 3ms/step - loss: 4.3438e-07\n",
      "Epoch 64/100\n",
      "157/157 [==============================] - 0s 3ms/step - loss: 4.2335e-07\n",
      "Epoch 65/100\n",
      "157/157 [==============================] - 0s 3ms/step - loss: 4.1258e-07\n",
      "Epoch 66/100\n",
      "157/157 [==============================] - 0s 3ms/step - loss: 4.0225e-07\n",
      "Epoch 67/100\n",
      "157/157 [==============================] - 0s 2ms/step - loss: 3.9223e-07\n",
      "Epoch 68/100\n",
      "157/157 [==============================] - 0s 3ms/step - loss: 3.8251e-07\n",
      "Epoch 69/100\n",
      "157/157 [==============================] - 0s 3ms/step - loss: 3.7303e-07\n",
      "Epoch 70/100\n",
      "157/157 [==============================] - 0s 3ms/step - loss: 3.6405e-07\n",
      "Epoch 71/100\n",
      "157/157 [==============================] - 1s 6ms/step - loss: 3.5507e-07\n",
      "Epoch 72/100\n",
      "157/157 [==============================] - 0s 3ms/step - loss: 3.4650e-07\n",
      "Epoch 73/100\n",
      "157/157 [==============================] - 0s 2ms/step - loss: 3.3787e-07\n",
      "Epoch 74/100\n",
      "157/157 [==============================] - 1s 3ms/step - loss: 3.2969e-07\n",
      "Epoch 75/100\n",
      "157/157 [==============================] - 0s 2ms/step - loss: 3.2177e-07\n",
      "Epoch 76/100\n",
      "157/157 [==============================] - 0s 2ms/step - loss: 3.1416e-07\n",
      "Epoch 77/100\n",
      "157/157 [==============================] - 0s 2ms/step - loss: 3.0664e-07\n",
      "Epoch 78/100\n",
      "157/157 [==============================] - 0s 2ms/step - loss: 2.9959e-07\n",
      "Epoch 79/100\n",
      "157/157 [==============================] - 0s 2ms/step - loss: 2.9246e-07\n",
      "Epoch 80/100\n",
      "157/157 [==============================] - 0s 2ms/step - loss: 2.8559e-07\n",
      "Epoch 81/100\n",
      "157/157 [==============================] - 0s 2ms/step - loss: 2.7922e-07\n",
      "Epoch 82/100\n",
      "157/157 [==============================] - 0s 2ms/step - loss: 2.7295e-07\n",
      "Epoch 83/100\n",
      "157/157 [==============================] - 0s 2ms/step - loss: 2.6684e-07\n",
      "Epoch 84/100\n",
      "157/157 [==============================] - 0s 2ms/step - loss: 2.6094e-07\n",
      "Epoch 85/100\n",
      "157/157 [==============================] - 0s 3ms/step - loss: 2.5512e-07\n",
      "Epoch 86/100\n",
      "157/157 [==============================] - 0s 2ms/step - loss: 2.4948e-07\n",
      "Epoch 87/100\n",
      "157/157 [==============================] - 0s 2ms/step - loss: 2.4411e-07\n",
      "Epoch 88/100\n",
      "157/157 [==============================] - 0s 2ms/step - loss: 2.3874e-07\n",
      "Epoch 89/100\n",
      "157/157 [==============================] - 0s 2ms/step - loss: 2.3371e-07\n",
      "Epoch 90/100\n",
      "157/157 [==============================] - 0s 3ms/step - loss: 2.2868e-07\n",
      "Epoch 91/100\n",
      "157/157 [==============================] - 0s 2ms/step - loss: 2.2379e-07\n",
      "Epoch 92/100\n",
      "157/157 [==============================] - 0s 2ms/step - loss: 2.1892e-07\n",
      "Epoch 93/100\n",
      "157/157 [==============================] - 0s 3ms/step - loss: 2.1423e-07\n",
      "Epoch 94/100\n",
      "157/157 [==============================] - 0s 2ms/step - loss: 2.0974e-07\n",
      "Epoch 95/100\n",
      "157/157 [==============================] - 0s 2ms/step - loss: 2.0521e-07\n",
      "Epoch 96/100\n",
      "157/157 [==============================] - 0s 2ms/step - loss: 2.0064e-07\n",
      "Epoch 97/100\n",
      "157/157 [==============================] - 0s 3ms/step - loss: 1.9614e-07\n",
      "Epoch 98/100\n",
      "157/157 [==============================] - 0s 2ms/step - loss: 1.9179e-07\n",
      "Epoch 99/100\n",
      "157/157 [==============================] - 0s 2ms/step - loss: 1.8759e-07\n",
      "Epoch 100/100\n",
      "157/157 [==============================] - 0s 2ms/step - loss: 1.8345e-07\n"
     ]
    }
   ],
   "source": [
    "tf_hist = tf_model.fit(x, y, epochs=100, batch_size=64, verbose=1)"
   ]
  },
  {
   "cell_type": "code",
   "execution_count": 17,
   "metadata": {},
   "outputs": [
    {
     "data": {
      "image/png": "[encoded data removed]",
      "text/plain": [
       "<Figure size 640x480 with 1 Axes>"
      ]
     },
     "metadata": {},
     "output_type": "display_data"
    }
   ],
   "source": [
    "plt.plot(tf_hist.history['loss'])\n",
    "plt.show()"
   ]
  }
 ],
 "metadata": {
  "kernelspec": {
   "display_name": "lab",
   "language": "python",
   "name": "python3"
  },
  "language_info": {
   "codemirror_mode": {
    "name": "ipython",
    "version": 3
   },
   "file_extension": ".py",
   "mimetype": "text/x-python",
   "name": "python",
   "nbconvert_exporter": "python",
   "pygments_lexer": "ipython3",
   "version": "3.9.0"
  }
 },
 "nbformat": 4,
 "nbformat_minor": 2
}
