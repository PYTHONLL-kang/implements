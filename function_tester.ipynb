{
 "cells": [
  {
   "cell_type": "code",
   "execution_count": 14,
   "metadata": {},
   "outputs": [],
   "source": [
    "import tensorflow as tf\n",
    "import numpy as np\n",
    "import matplotlib.pyplot as plt\n",
    "\n",
    "import k.Activations.functions as Activations\n",
    "import k.Layers.functions as Layers\n",
    "import k.Losses.functions as Losses\n",
    "import k.Optimizers.functions as Optimizers\n",
    "import k.Networks.functions as Networks"
   ]
  },
  {
   "cell_type": "code",
   "execution_count": 15,
   "metadata": {},
   "outputs": [],
   "source": [
    "tf.random.set_seed(3318)"
   ]
  },
  {
   "cell_type": "code",
   "execution_count": 16,
   "metadata": {},
   "outputs": [
    {
     "name": "stdout",
     "output_type": "stream",
     "text": [
      "(404, 13)\n",
      "(404, 1)\n"
     ]
    }
   ],
   "source": [
    "(x_train, y_train), (x_test, y_test) = tf.keras.datasets.boston_housing.load_data()\n",
    "\n",
    "x_train = x_train.astype(dtype=np.float32)\n",
    "y_train = y_train.reshape(y_train.shape[0], 1).astype(dtype=np.float32)\n",
    "x_test = x_test.astype(dtype=np.float32)\n",
    "y_test = y_test.reshape(y_test.shape[0], 1).astype(dtype=np.float32)\n",
    "\n",
    "print(x_train.shape)\n",
    "print(y_train.shape)"
   ]
  },
  {
   "cell_type": "code",
   "execution_count": 17,
   "metadata": {},
   "outputs": [],
   "source": [
    "model = Networks.Neural_network()\n",
    "# model.network.append(Layers.Input(input_shape=(13)))\n",
    "model.network.append(Layers.Dense(64, input_shape=(13), activation='relu'))\n",
    "model.network.append(Layers.Dense(32, activation='relu'))\n",
    "model.network.append(Layers.Dense(16, activation='relu'))\n",
    "model.network.append(Layers.Dense(1, activation='linear'))\n",
    "\n",
    "optimizer = Optimizers.Adam(learning_rate=1e-4)\n",
    "model.compile('mse', optimizer, metrics='mae')"
   ]
  },
  {
   "cell_type": "code",
   "execution_count": 18,
   "metadata": {},
   "outputs": [
    {
     "data": {
      "text/plain": [
       "{'loss': <tf.Tensor: shape=(), dtype=float32, numpy=948.0361>,\n",
       " 'metrics': <tf.Tensor: shape=(), dtype=float32, numpy=28.676365>}"
      ]
     },
     "execution_count": 18,
     "metadata": {},
     "output_type": "execute_result"
    }
   ],
   "source": [
    "model.evaluate(x_test, y_test)"
   ]
  },
  {
   "cell_type": "code",
   "execution_count": 19,
   "metadata": {},
   "outputs": [
    {
     "name": "stdout",
     "output_type": "stream",
     "text": [
      "epoch: 001  | loss : 939.0665  | val_loss : 756.3351  | metrics : 28.6759\n",
      "epoch: 002  | loss : 750.2550  | val_loss : 592.5449  | metrics : 24.9470\n",
      "epoch: 003  | loss : 534.4065  | val_loss : 456.9485  | metrics : 21.0230\n",
      "epoch: 004  | loss : 479.8793  | val_loss : 348.3683  | metrics : 19.1036\n",
      "epoch: 005  | loss : 373.7355  | val_loss : 266.8212  | metrics : 16.3964\n",
      "epoch: 006  | loss : 261.8552  | val_loss : 210.8334  | metrics : 13.0165\n",
      "epoch: 007  | loss : 213.9165  | val_loss : 177.5669  | metrics : 11.7746\n",
      "epoch: 008  | loss : 192.8051  | val_loss : 164.0406  | metrics : 10.2065\n",
      "epoch: 009  | loss : 145.5742  | val_loss : 166.3645  | metrics : 9.2218\n",
      "epoch: 010  | loss : 152.7423  | val_loss : 179.6525  | metrics : 9.3324\n",
      "epoch: 011  | loss : 165.0272  | val_loss : 198.3692  | metrics : 10.1321\n",
      "epoch: 012  | loss : 187.4464  | val_loss : 219.4281  | metrics : 10.5038\n",
      "epoch: 013  | loss : 211.3164  | val_loss : 238.3484  | metrics : 11.5516\n",
      "epoch: 014  | loss : 187.4656  | val_loss : 253.1085  | metrics : 10.5097\n",
      "epoch: 015  | loss : 223.4642  | val_loss : 260.7914  | metrics : 11.7734\n",
      "epoch: 016  | loss : 270.9534  | val_loss : 260.1277  | metrics : 13.2154\n",
      "epoch: 017  | loss : 208.6320  | val_loss : 253.3466  | metrics : 11.6725\n",
      "epoch: 018  | loss : 253.8360  | val_loss : 241.5447  | metrics : 12.7860\n",
      "epoch: 019  | loss : 211.7400  | val_loss : 226.9681  | metrics : 11.3552\n",
      "epoch: 020  | loss : 227.4545  | val_loss : 210.7860  | metrics : 11.8695\n",
      "epoch: 021  | loss : 201.0024  | val_loss : 194.5534  | metrics : 10.9608\n",
      "epoch: 022  | loss : 196.6887  | val_loss : 179.8642  | metrics : 10.9631\n",
      "epoch: 023  | loss : 147.3777  | val_loss : 167.9773  | metrics : 9.0835\n",
      "epoch: 024  | loss : 158.0765  | val_loss : 158.9800  | metrics : 9.3837\n",
      "epoch: 025  | loss : 155.7714  | val_loss : 153.2875  | metrics : 8.9649\n",
      "epoch: 026  | loss : 124.0969  | val_loss : 150.5572  | metrics : 8.2968\n",
      "epoch: 027  | loss : 123.0408  | val_loss : 150.0700  | metrics : 8.5645\n",
      "epoch: 028  | loss : 130.8256  | val_loss : 151.1955  | metrics : 8.1222\n",
      "epoch: 029  | loss : 136.7317  | val_loss : 153.2017  | metrics : 8.6523\n",
      "epoch: 030  | loss : 145.1788  | val_loss : 155.2431  | metrics : 9.0367\n",
      "epoch: 031  | loss : 148.7938  | val_loss : 156.6810  | metrics : 8.9523\n",
      "epoch: 032  | loss : 155.2161  | val_loss : 157.1490  | metrics : 9.4439\n",
      "epoch: 033  | loss : 197.3611  | val_loss : 156.3057  | metrics : 10.4546\n",
      "epoch: 034  | loss : 160.8159  | val_loss : 154.6598  | metrics : 9.1662\n",
      "epoch: 035  | loss : 164.5530  | val_loss : 152.1809  | metrics : 9.4689\n",
      "epoch: 036  | loss : 158.2958  | val_loss : 149.3995  | metrics : 9.3318\n",
      "epoch: 037  | loss : 140.7318  | val_loss : 146.8348  | metrics : 9.0398\n",
      "epoch: 038  | loss : 144.9498  | val_loss : 144.5778  | metrics : 9.0018\n",
      "epoch: 039  | loss : 143.9622  | val_loss : 142.8351  | metrics : 8.9818\n",
      "epoch: 040  | loss : 148.4499  | val_loss : 141.8071  | metrics : 9.1194\n",
      "epoch: 041  | loss : 145.3620  | val_loss : 141.4348  | metrics : 8.8213\n",
      "epoch: 042  | loss : 116.7337  | val_loss : 141.5012  | metrics : 8.0797\n",
      "epoch: 043  | loss : 139.2874  | val_loss : 141.8252  | metrics : 8.7358\n",
      "epoch: 044  | loss : 124.2764  | val_loss : 142.1503  | metrics : 8.2191\n",
      "epoch: 045  | loss : 116.9152  | val_loss : 142.4117  | metrics : 8.2037\n",
      "epoch: 046  | loss : 117.2964  | val_loss : 142.3879  | metrics : 8.2197\n",
      "epoch: 047  | loss : 139.9064  | val_loss : 142.2688  | metrics : 8.8360\n",
      "epoch: 048  | loss : 153.8656  | val_loss : 141.8694  | metrics : 9.6395\n",
      "epoch: 049  | loss : 123.8666  | val_loss : 141.2724  | metrics : 8.4690\n",
      "epoch: 050  | loss : 120.0309  | val_loss : 140.3960  | metrics : 8.3390\n",
      "epoch: 051  | loss : 139.3152  | val_loss : 139.2970  | metrics : 8.7692\n",
      "epoch: 052  | loss : 144.2560  | val_loss : 138.2442  | metrics : 8.9685\n",
      "epoch: 053  | loss : 112.6052  | val_loss : 137.1216  | metrics : 8.1529\n",
      "epoch: 054  | loss : 124.0265  | val_loss : 136.1126  | metrics : 8.3457\n",
      "epoch: 055  | loss : 124.2639  | val_loss : 135.3321  | metrics : 8.2906\n",
      "epoch: 056  | loss : 140.7308  | val_loss : 134.6708  | metrics : 8.5877\n",
      "epoch: 057  | loss : 125.3522  | val_loss : 134.0846  | metrics : 8.3553\n",
      "epoch: 058  | loss : 121.9084  | val_loss : 133.5970  | metrics : 8.3302\n",
      "epoch: 059  | loss : 128.8238  | val_loss : 133.1705  | metrics : 8.1817\n",
      "epoch: 060  | loss : 131.5046  | val_loss : 132.7229  | metrics : 8.6406\n",
      "epoch: 061  | loss : 163.2317  | val_loss : 132.2478  | metrics : 9.6877\n",
      "epoch: 062  | loss : 105.5233  | val_loss : 131.7735  | metrics : 7.2049\n",
      "epoch: 063  | loss : 125.2024  | val_loss : 131.3754  | metrics : 8.3179\n",
      "epoch: 064  | loss : 112.7739  | val_loss : 131.0282  | metrics : 7.8811\n",
      "epoch: 065  | loss : 124.6482  | val_loss : 130.7115  | metrics : 8.2586\n",
      "epoch: 066  | loss : 137.3795  | val_loss : 130.4215  | metrics : 8.5937\n",
      "epoch: 067  | loss : 110.0132  | val_loss : 130.2386  | metrics : 7.5873\n",
      "epoch: 068  | loss : 108.3009  | val_loss : 130.0276  | metrics : 7.9065\n",
      "epoch: 069  | loss : 116.5355  | val_loss : 129.8125  | metrics : 8.0791\n",
      "epoch: 070  | loss : 119.9846  | val_loss : 129.4999  | metrics : 8.1265\n",
      "epoch: 071  | loss : 106.3324  | val_loss : 129.1162  | metrics : 7.7300\n",
      "epoch: 072  | loss : 112.6234  | val_loss : 128.6938  | metrics : 7.7655\n",
      "epoch: 073  | loss : 127.5575  | val_loss : 128.3322  | metrics : 8.2874\n",
      "epoch: 074  | loss : 118.7630  | val_loss : 127.8751  | metrics : 7.8890\n",
      "epoch: 075  | loss : 106.7891  | val_loss : 127.2635  | metrics : 7.8162\n",
      "epoch: 076  | loss : 120.4977  | val_loss : 126.6086  | metrics : 8.2390\n",
      "epoch: 077  | loss : 127.9015  | val_loss : 125.9407  | metrics : 8.1853\n",
      "epoch: 078  | loss : 118.7113  | val_loss : 125.3871  | metrics : 7.9912\n",
      "epoch: 079  | loss : 110.6425  | val_loss : 124.8487  | metrics : 7.7837\n",
      "epoch: 080  | loss : 123.0520  | val_loss : 124.3333  | metrics : 7.9762\n",
      "epoch: 081  | loss : 118.3895  | val_loss : 123.7991  | metrics : 8.1212\n",
      "epoch: 082  | loss : 99.8388  | val_loss : 123.2236  | metrics : 7.1209\n",
      "epoch: 083  | loss : 110.2166  | val_loss : 122.5770  | metrics : 7.7637\n",
      "epoch: 084  | loss : 109.0297  | val_loss : 121.9845  | metrics : 7.4321\n",
      "epoch: 085  | loss : 113.3854  | val_loss : 121.4319  | metrics : 7.7356\n",
      "epoch: 086  | loss : 113.0190  | val_loss : 120.9449  | metrics : 7.8045\n",
      "epoch: 087  | loss : 111.4464  | val_loss : 120.5111  | metrics : 7.5433\n",
      "epoch: 088  | loss : 104.8587  | val_loss : 120.1395  | metrics : 7.4794\n",
      "epoch: 089  | loss : 127.4091  | val_loss : 119.8143  | metrics : 8.2505\n",
      "epoch: 090  | loss : 96.5771  | val_loss : 119.4582  | metrics : 7.0289\n",
      "epoch: 091  | loss : 116.5474  | val_loss : 119.1277  | metrics : 8.1919\n",
      "epoch: 092  | loss : 114.3923  | val_loss : 118.7707  | metrics : 7.8605\n",
      "epoch: 093  | loss : 115.9563  | val_loss : 118.4431  | metrics : 7.8224\n",
      "epoch: 094  | loss : 107.1612  | val_loss : 118.1471  | metrics : 7.6057\n",
      "epoch: 095  | loss : 122.8483  | val_loss : 117.8242  | metrics : 7.9591\n",
      "epoch: 096  | loss : 108.7953  | val_loss : 117.4813  | metrics : 7.8007\n",
      "epoch: 097  | loss : 112.8465  | val_loss : 117.2692  | metrics : 7.7741\n",
      "epoch: 098  | loss : 116.3068  | val_loss : 117.0221  | metrics : 8.0812\n",
      "epoch: 099  | loss : 117.6850  | val_loss : 116.8223  | metrics : 7.9802\n",
      "epoch: 100  | loss : 98.1138  | val_loss : 116.5815  | metrics : 7.2659\n"
     ]
    }
   ],
   "source": [
    "hist = model.fit(x_train, y_train, batch_size=256, epochs=100, verbose=1, validation_data=(x_test, y_test))"
   ]
  },
  {
   "cell_type": "code",
   "execution_count": 20,
   "metadata": {},
   "outputs": [
    {
     "data": {
      "image/png": "[encoded data removed]",
      "text/plain": [
       "<Figure size 640x480 with 1 Axes>"
      ]
     },
     "metadata": {},
     "output_type": "display_data"
    }
   ],
   "source": [
    "plt.plot(hist['loss'], label='loss')\n",
    "plt.plot(hist['val_loss'], label='val_loss')\n",
    "plt.legend()\n",
    "plt.show()"
   ]
  },
  {
   "cell_type": "code",
   "execution_count": 21,
   "metadata": {},
   "outputs": [
    {
     "data": {
      "text/plain": [
       "{'loss': <tf.Tensor: shape=(), dtype=float32, numpy=116.58152>,\n",
       " 'metrics': <tf.Tensor: shape=(), dtype=float32, numpy=8.047991>}"
      ]
     },
     "execution_count": 21,
     "metadata": {},
     "output_type": "execute_result"
    }
   ],
   "source": [
    "model.evaluate(x_test, y_test)"
   ]
  },
  {
   "cell_type": "markdown",
   "metadata": {},
   "source": [
    "### make tensorflow model to compare"
   ]
  },
  {
   "cell_type": "code",
   "execution_count": 22,
   "metadata": {},
   "outputs": [],
   "source": [
    "tf_model = tf.keras.Sequential()\n",
    "tf_model.add(tf.keras.layers.Dense(64, input_shape=x_train.shape[1::], activation='relu'))\n",
    "tf_model.add(tf.keras.layers.Dense(32, activation='relu'))\n",
    "tf_model.add(tf.keras.layers.Dense(16, activation='relu'))\n",
    "tf_model.add(tf.keras.layers.Dense(1, activation='linear'))\n",
    "\n",
    "optimizer = tf.keras.optimizers.Adam(learning_rate=1e-4)\n",
    "tf_model.compile(loss='mean_squared_error', optimizer=optimizer, metrics=['mae'])"
   ]
  },
  {
   "cell_type": "code",
   "execution_count": 23,
   "metadata": {},
   "outputs": [
    {
     "name": "stdout",
     "output_type": "stream",
     "text": [
      "4/4 [==============================] - 0s 13ms/step - loss: 6735.3325 - mae: 81.0305\n"
     ]
    },
    {
     "data": {
      "text/plain": [
       "[6735.33251953125, 81.03047180175781]"
      ]
     },
     "execution_count": 23,
     "metadata": {},
     "output_type": "execute_result"
    }
   ],
   "source": [
    "tf_model.evaluate(x_test, y_test)"
   ]
  },
  {
   "cell_type": "code",
   "execution_count": 24,
   "metadata": {},
   "outputs": [
    {
     "name": "stdout",
     "output_type": "stream",
     "text": [
      "Epoch 1/100\n",
      "2/2 [==============================] - 1s 69ms/step - loss: 6303.4141 - mae: 77.9844 - val_loss: 6432.1831 - val_mae: 79.1565\n",
      "Epoch 2/100\n",
      "2/2 [==============================] - 0s 58ms/step - loss: 6026.1738 - mae: 76.1901 - val_loss: 6135.4375 - val_mae: 77.2740\n",
      "Epoch 3/100\n",
      "2/2 [==============================] - 0s 78ms/step - loss: 5755.3130 - mae: 74.3760 - val_loss: 5846.3843 - val_mae: 75.3917\n",
      "Epoch 4/100\n",
      "2/2 [==============================] - 0s 82ms/step - loss: 5490.1953 - mae: 72.5747 - val_loss: 5566.7881 - val_mae: 73.5225\n",
      "Epoch 5/100\n",
      "2/2 [==============================] - 0s 102ms/step - loss: 5232.4331 - mae: 70.7722 - val_loss: 5297.3301 - val_mae: 71.6702\n",
      "Epoch 6/100\n",
      "2/2 [==============================] - 0s 73ms/step - loss: 4987.0405 - mae: 68.9993 - val_loss: 5038.6616 - val_mae: 69.8406\n",
      "Epoch 7/100\n",
      "2/2 [==============================] - 0s 124ms/step - loss: 4751.8955 - mae: 67.2534 - val_loss: 4789.8560 - val_mae: 68.0273\n",
      "Epoch 8/100\n",
      "2/2 [==============================] - 0s 132ms/step - loss: 4524.4448 - mae: 65.5125 - val_loss: 4551.4639 - val_mae: 66.2356\n",
      "Epoch 9/100\n",
      "2/2 [==============================] - 0s 114ms/step - loss: 4304.7031 - mae: 63.7837 - val_loss: 4322.3813 - val_mae: 64.4603\n",
      "Epoch 10/100\n",
      "2/2 [==============================] - 0s 67ms/step - loss: 4095.4585 - mae: 62.0941 - val_loss: 4102.4751 - val_mae: 62.7019\n",
      "Epoch 11/100\n",
      "2/2 [==============================] - 0s 73ms/step - loss: 3897.0923 - mae: 60.4315 - val_loss: 3892.1155 - val_mae: 60.9650\n",
      "Epoch 12/100\n",
      "2/2 [==============================] - 0s 53ms/step - loss: 3702.3254 - mae: 58.7559 - val_loss: 3691.6326 - val_mae: 59.2557\n",
      "Epoch 13/100\n",
      "2/2 [==============================] - 0s 59ms/step - loss: 3520.2649 - mae: 57.1275 - val_loss: 3500.2358 - val_mae: 57.5678\n",
      "Epoch 14/100\n",
      "2/2 [==============================] - 0s 75ms/step - loss: 3343.6814 - mae: 55.5297 - val_loss: 3318.2703 - val_mae: 55.9240\n",
      "Epoch 15/100\n",
      "2/2 [==============================] - 0s 83ms/step - loss: 3176.9709 - mae: 53.9969 - val_loss: 3145.0972 - val_mae: 54.3616\n",
      "Epoch 16/100\n",
      "2/2 [==============================] - 0s 64ms/step - loss: 3017.3748 - mae: 52.4778 - val_loss: 2981.0742 - val_mae: 52.8350\n",
      "Epoch 17/100\n",
      "2/2 [==============================] - 0s 54ms/step - loss: 2867.8743 - mae: 51.0454 - val_loss: 2825.9443 - val_mae: 51.3397\n",
      "Epoch 18/100\n",
      "2/2 [==============================] - 0s 65ms/step - loss: 2724.2871 - mae: 49.6694 - val_loss: 2679.3508 - val_mae: 49.8778\n",
      "Epoch 19/100\n",
      "2/2 [==============================] - 0s 68ms/step - loss: 2589.7424 - mae: 48.3529 - val_loss: 2541.1477 - val_mae: 48.4703\n",
      "Epoch 20/100\n",
      "2/2 [==============================] - 0s 62ms/step - loss: 2462.2319 - mae: 47.0770 - val_loss: 2410.8918 - val_mae: 47.1103\n",
      "Epoch 21/100\n",
      "2/2 [==============================] - 0s 64ms/step - loss: 2342.8916 - mae: 45.8348 - val_loss: 2289.1584 - val_mae: 45.7955\n",
      "Epoch 22/100\n",
      "2/2 [==============================] - 0s 78ms/step - loss: 2230.8511 - mae: 44.6334 - val_loss: 2176.2588 - val_mae: 44.5370\n",
      "Epoch 23/100\n",
      "2/2 [==============================] - 0s 96ms/step - loss: 2124.8608 - mae: 43.4926 - val_loss: 2071.1091 - val_mae: 43.3280\n",
      "Epoch 24/100\n",
      "2/2 [==============================] - 0s 55ms/step - loss: 2025.6379 - mae: 42.3806 - val_loss: 1972.6578 - val_mae: 42.1771\n",
      "Epoch 25/100\n",
      "2/2 [==============================] - 0s 97ms/step - loss: 1932.4966 - mae: 41.3234 - val_loss: 1879.9918 - val_mae: 41.0729\n",
      "Epoch 26/100\n",
      "2/2 [==============================] - 0s 88ms/step - loss: 1845.1605 - mae: 40.3003 - val_loss: 1792.5367 - val_mae: 39.9969\n",
      "Epoch 27/100\n",
      "2/2 [==============================] - 0s 82ms/step - loss: 1761.9363 - mae: 39.3202 - val_loss: 1710.1034 - val_mae: 38.9492\n",
      "Epoch 28/100\n",
      "2/2 [==============================] - 0s 93ms/step - loss: 1684.7357 - mae: 38.3858 - val_loss: 1632.1705 - val_mae: 37.9264\n",
      "Epoch 29/100\n",
      "2/2 [==============================] - 0s 84ms/step - loss: 1610.3431 - mae: 37.4656 - val_loss: 1558.6388 - val_mae: 36.9312\n",
      "Epoch 30/100\n",
      "2/2 [==============================] - 0s 73ms/step - loss: 1541.0145 - mae: 36.5863 - val_loss: 1489.1072 - val_mae: 35.9613\n",
      "Epoch 31/100\n",
      "2/2 [==============================] - 0s 70ms/step - loss: 1474.9670 - mae: 35.6990 - val_loss: 1423.4268 - val_mae: 35.0169\n",
      "Epoch 32/100\n",
      "2/2 [==============================] - 0s 77ms/step - loss: 1413.2083 - mae: 34.8528 - val_loss: 1361.2723 - val_mae: 34.0941\n",
      "Epoch 33/100\n",
      "2/2 [==============================] - 0s 56ms/step - loss: 1353.3707 - mae: 34.0220 - val_loss: 1302.6584 - val_mae: 33.1977\n",
      "Epoch 34/100\n",
      "2/2 [==============================] - 0s 53ms/step - loss: 1297.2012 - mae: 33.2237 - val_loss: 1247.3002 - val_mae: 32.3275\n",
      "Epoch 35/100\n",
      "2/2 [==============================] - 0s 84ms/step - loss: 1243.9532 - mae: 32.4387 - val_loss: 1194.8346 - val_mae: 31.4813\n",
      "Epoch 36/100\n",
      "2/2 [==============================] - 0s 73ms/step - loss: 1194.6639 - mae: 31.6857 - val_loss: 1145.2035 - val_mae: 30.6590\n",
      "Epoch 37/100\n",
      "2/2 [==============================] - 0s 52ms/step - loss: 1146.3447 - mae: 30.9503 - val_loss: 1098.2592 - val_mae: 29.8604\n",
      "Epoch 38/100\n",
      "2/2 [==============================] - 0s 69ms/step - loss: 1101.2406 - mae: 30.2436 - val_loss: 1053.7666 - val_mae: 29.0958\n",
      "Epoch 39/100\n",
      "2/2 [==============================] - 0s 71ms/step - loss: 1057.8558 - mae: 29.5518 - val_loss: 1011.4582 - val_mae: 28.3962\n",
      "Epoch 40/100\n",
      "2/2 [==============================] - 0s 44ms/step - loss: 1017.8674 - mae: 28.8863 - val_loss: 971.1334 - val_mae: 27.7264\n",
      "Epoch 41/100\n",
      "2/2 [==============================] - 0s 109ms/step - loss: 978.4922 - mae: 28.2224 - val_loss: 933.1599 - val_mae: 27.0767\n",
      "Epoch 42/100\n",
      "2/2 [==============================] - 0s 68ms/step - loss: 940.8137 - mae: 27.5886 - val_loss: 897.1398 - val_mae: 26.4429\n",
      "Epoch 43/100\n",
      "2/2 [==============================] - 0s 74ms/step - loss: 905.3566 - mae: 26.9786 - val_loss: 863.1028 - val_mae: 25.8561\n",
      "Epoch 44/100\n",
      "2/2 [==============================] - 0s 91ms/step - loss: 871.0483 - mae: 26.3717 - val_loss: 830.9811 - val_mae: 25.3064\n",
      "Epoch 45/100\n",
      "2/2 [==============================] - 0s 76ms/step - loss: 838.9182 - mae: 25.7922 - val_loss: 800.3130 - val_mae: 24.7795\n",
      "Epoch 46/100\n",
      "2/2 [==============================] - 0s 70ms/step - loss: 807.5640 - mae: 25.2334 - val_loss: 771.1342 - val_mae: 24.2848\n",
      "Epoch 47/100\n",
      "2/2 [==============================] - 0s 66ms/step - loss: 778.5950 - mae: 24.7107 - val_loss: 743.6795 - val_mae: 23.8049\n",
      "Epoch 48/100\n",
      "2/2 [==============================] - 0s 84ms/step - loss: 750.5370 - mae: 24.1990 - val_loss: 717.6790 - val_mae: 23.3381\n",
      "Epoch 49/100\n",
      "2/2 [==============================] - 0s 62ms/step - loss: 723.3188 - mae: 23.7084 - val_loss: 693.1091 - val_mae: 22.8846\n",
      "Epoch 50/100\n",
      "2/2 [==============================] - 0s 63ms/step - loss: 697.8455 - mae: 23.2582 - val_loss: 669.7729 - val_mae: 22.4422\n",
      "Epoch 51/100\n",
      "2/2 [==============================] - 0s 79ms/step - loss: 673.8522 - mae: 22.8364 - val_loss: 647.4686 - val_mae: 22.0140\n",
      "Epoch 52/100\n",
      "2/2 [==============================] - 0s 66ms/step - loss: 650.6490 - mae: 22.4289 - val_loss: 626.2678 - val_mae: 21.6085\n",
      "Epoch 53/100\n",
      "2/2 [==============================] - 0s 72ms/step - loss: 628.7484 - mae: 22.0399 - val_loss: 605.9430 - val_mae: 21.2226\n",
      "Epoch 54/100\n",
      "2/2 [==============================] - 0s 59ms/step - loss: 608.0107 - mae: 21.6661 - val_loss: 586.3063 - val_mae: 20.8535\n",
      "Epoch 55/100\n",
      "2/2 [==============================] - 0s 72ms/step - loss: 588.2217 - mae: 21.3142 - val_loss: 567.5067 - val_mae: 20.4982\n",
      "Epoch 56/100\n",
      "2/2 [==============================] - 0s 80ms/step - loss: 569.2349 - mae: 20.9627 - val_loss: 549.5748 - val_mae: 20.1633\n",
      "Epoch 57/100\n",
      "2/2 [==============================] - 0s 94ms/step - loss: 550.8445 - mae: 20.6162 - val_loss: 532.4553 - val_mae: 19.8352\n",
      "Epoch 58/100\n",
      "2/2 [==============================] - 0s 73ms/step - loss: 533.7064 - mae: 20.2920 - val_loss: 516.0646 - val_mae: 19.5197\n",
      "Epoch 59/100\n",
      "2/2 [==============================] - 0s 71ms/step - loss: 516.9864 - mae: 19.9691 - val_loss: 500.4933 - val_mae: 19.2134\n",
      "Epoch 60/100\n",
      "2/2 [==============================] - 0s 55ms/step - loss: 500.8599 - mae: 19.6553 - val_loss: 485.7589 - val_mae: 18.9147\n",
      "Epoch 61/100\n",
      "2/2 [==============================] - 0s 61ms/step - loss: 485.7428 - mae: 19.3429 - val_loss: 471.5594 - val_mae: 18.6200\n",
      "Epoch 62/100\n",
      "2/2 [==============================] - 0s 71ms/step - loss: 471.5605 - mae: 19.0542 - val_loss: 457.8598 - val_mae: 18.3353\n",
      "Epoch 63/100\n",
      "2/2 [==============================] - 0s 80ms/step - loss: 457.3495 - mae: 18.7483 - val_loss: 444.9331 - val_mae: 18.0595\n",
      "Epoch 64/100\n",
      "2/2 [==============================] - 0s 66ms/step - loss: 443.8212 - mae: 18.4557 - val_loss: 432.6663 - val_mae: 17.7911\n",
      "Epoch 65/100\n",
      "2/2 [==============================] - 0s 56ms/step - loss: 431.1163 - mae: 18.1750 - val_loss: 420.9612 - val_mae: 17.5323\n",
      "Epoch 66/100\n",
      "2/2 [==============================] - 0s 71ms/step - loss: 418.3215 - mae: 17.8886 - val_loss: 409.7203 - val_mae: 17.2829\n",
      "Epoch 67/100\n",
      "2/2 [==============================] - 0s 70ms/step - loss: 406.3749 - mae: 17.6112 - val_loss: 398.9381 - val_mae: 17.0451\n",
      "Epoch 68/100\n",
      "2/2 [==============================] - 0s 51ms/step - loss: 394.8931 - mae: 17.3383 - val_loss: 388.6462 - val_mae: 16.8137\n",
      "Epoch 69/100\n",
      "2/2 [==============================] - 0s 59ms/step - loss: 383.7560 - mae: 17.0697 - val_loss: 378.6998 - val_mae: 16.5862\n",
      "Epoch 70/100\n",
      "2/2 [==============================] - 0s 43ms/step - loss: 373.1858 - mae: 16.8095 - val_loss: 369.1479 - val_mae: 16.3639\n",
      "Epoch 71/100\n",
      "2/2 [==============================] - 0s 81ms/step - loss: 362.9603 - mae: 16.5481 - val_loss: 360.0455 - val_mae: 16.1473\n",
      "Epoch 72/100\n",
      "2/2 [==============================] - 0s 47ms/step - loss: 353.6166 - mae: 16.3007 - val_loss: 351.2727 - val_mae: 15.9365\n",
      "Epoch 73/100\n",
      "2/2 [==============================] - 0s 43ms/step - loss: 344.1497 - mae: 16.0489 - val_loss: 342.7733 - val_mae: 15.7272\n",
      "Epoch 74/100\n",
      "2/2 [==============================] - 0s 55ms/step - loss: 335.2413 - mae: 15.8050 - val_loss: 334.6008 - val_mae: 15.5228\n",
      "Epoch 75/100\n",
      "2/2 [==============================] - 0s 53ms/step - loss: 326.5907 - mae: 15.5667 - val_loss: 326.7068 - val_mae: 15.3220\n",
      "Epoch 76/100\n",
      "2/2 [==============================] - 0s 55ms/step - loss: 318.2868 - mae: 15.3278 - val_loss: 319.0220 - val_mae: 15.1225\n",
      "Epoch 77/100\n",
      "2/2 [==============================] - 0s 46ms/step - loss: 310.4930 - mae: 15.0990 - val_loss: 311.5634 - val_mae: 14.9274\n",
      "Epoch 78/100\n",
      "2/2 [==============================] - 0s 32ms/step - loss: 302.5146 - mae: 14.8675 - val_loss: 304.3631 - val_mae: 14.7352\n",
      "Epoch 79/100\n",
      "2/2 [==============================] - 0s 61ms/step - loss: 295.2487 - mae: 14.6507 - val_loss: 297.3500 - val_mae: 14.5446\n",
      "Epoch 80/100\n",
      "2/2 [==============================] - 0s 64ms/step - loss: 287.9536 - mae: 14.4290 - val_loss: 290.5398 - val_mae: 14.3554\n",
      "Epoch 81/100\n",
      "2/2 [==============================] - 0s 62ms/step - loss: 281.0703 - mae: 14.2149 - val_loss: 283.8877 - val_mae: 14.1671\n",
      "Epoch 82/100\n",
      "2/2 [==============================] - 0s 54ms/step - loss: 274.2153 - mae: 14.0006 - val_loss: 277.4251 - val_mae: 13.9806\n",
      "Epoch 83/100\n",
      "2/2 [==============================] - 0s 36ms/step - loss: 267.7196 - mae: 13.7906 - val_loss: 271.1002 - val_mae: 13.7947\n",
      "Epoch 84/100\n",
      "2/2 [==============================] - 0s 50ms/step - loss: 261.3288 - mae: 13.5824 - val_loss: 264.9303 - val_mae: 13.6099\n",
      "Epoch 85/100\n",
      "2/2 [==============================] - 0s 55ms/step - loss: 255.1899 - mae: 13.3795 - val_loss: 258.9704 - val_mae: 13.4280\n",
      "Epoch 86/100\n",
      "2/2 [==============================] - 0s 51ms/step - loss: 249.2841 - mae: 13.1823 - val_loss: 253.1873 - val_mae: 13.2478\n",
      "Epoch 87/100\n",
      "2/2 [==============================] - 0s 48ms/step - loss: 243.4209 - mae: 12.9852 - val_loss: 247.6009 - val_mae: 13.0720\n",
      "Epoch 88/100\n",
      "2/2 [==============================] - 0s 46ms/step - loss: 237.9166 - mae: 12.7924 - val_loss: 242.1761 - val_mae: 12.9001\n",
      "Epoch 89/100\n",
      "2/2 [==============================] - 0s 65ms/step - loss: 232.6239 - mae: 12.6074 - val_loss: 236.9178 - val_mae: 12.7304\n",
      "Epoch 90/100\n",
      "2/2 [==============================] - 0s 45ms/step - loss: 227.4076 - mae: 12.4244 - val_loss: 231.8458 - val_mae: 12.5631\n",
      "Epoch 91/100\n",
      "2/2 [==============================] - 0s 42ms/step - loss: 222.2076 - mae: 12.2439 - val_loss: 226.9448 - val_mae: 12.3982\n",
      "Epoch 92/100\n",
      "2/2 [==============================] - 0s 49ms/step - loss: 217.4888 - mae: 12.0691 - val_loss: 222.1667 - val_mae: 12.2340\n",
      "Epoch 93/100\n",
      "2/2 [==============================] - 0s 52ms/step - loss: 212.6230 - mae: 11.8950 - val_loss: 217.5433 - val_mae: 12.0744\n",
      "Epoch 94/100\n",
      "2/2 [==============================] - 0s 58ms/step - loss: 207.9289 - mae: 11.7238 - val_loss: 213.0458 - val_mae: 11.9174\n",
      "Epoch 95/100\n",
      "2/2 [==============================] - 0s 34ms/step - loss: 203.5111 - mae: 11.5600 - val_loss: 208.6501 - val_mae: 11.7626\n",
      "Epoch 96/100\n",
      "2/2 [==============================] - 0s 55ms/step - loss: 199.0675 - mae: 11.3905 - val_loss: 204.3317 - val_mae: 11.6086\n",
      "Epoch 97/100\n",
      "2/2 [==============================] - 0s 44ms/step - loss: 194.6108 - mae: 11.2243 - val_loss: 200.0492 - val_mae: 11.4550\n",
      "Epoch 98/100\n",
      "2/2 [==============================] - 0s 57ms/step - loss: 190.4478 - mae: 11.0645 - val_loss: 195.8450 - val_mae: 11.3023\n",
      "Epoch 99/100\n",
      "2/2 [==============================] - 0s 41ms/step - loss: 186.3932 - mae: 10.9028 - val_loss: 191.6819 - val_mae: 11.1543\n",
      "Epoch 100/100\n",
      "2/2 [==============================] - 0s 58ms/step - loss: 182.3398 - mae: 10.7454 - val_loss: 187.6489 - val_mae: 11.0116\n"
     ]
    }
   ],
   "source": [
    "tf_hist = tf_model.fit(x_train, y_train, epochs=100, batch_size=256, verbose=1, validation_data=(x_test, y_test))"
   ]
  },
  {
   "cell_type": "code",
   "execution_count": 25,
   "metadata": {},
   "outputs": [
    {
     "data": {
      "image/png": "[encoded data removed]",
      "text/plain": [
       "<Figure size 640x480 with 1 Axes>"
      ]
     },
     "metadata": {},
     "output_type": "display_data"
    }
   ],
   "source": [
    "plt.plot(tf_hist.history['loss'], label='loss')\n",
    "plt.plot(tf_hist.history['val_loss'], label='val_loss')\n",
    "plt.legend()\n",
    "plt.show()"
   ]
  },
  {
   "cell_type": "code",
   "execution_count": 26,
   "metadata": {},
   "outputs": [
    {
     "name": "stdout",
     "output_type": "stream",
     "text": [
      "4/4 [==============================] - 0s 4ms/step - loss: 187.6489 - mae: 11.0116\n"
     ]
    },
    {
     "data": {
      "text/plain": [
       "[187.6488800048828, 11.011582374572754]"
      ]
     },
     "execution_count": 26,
     "metadata": {},
     "output_type": "execute_result"
    }
   ],
   "source": [
    "tf_model.evaluate(x_test, y_test)"
   ]
  },
  {
   "cell_type": "code",
   "execution_count": null,
   "metadata": {},
   "outputs": [],
   "source": []
  }
 ],
 "metadata": {
  "kernelspec": {
   "display_name": "lab",
   "language": "python",
   "name": "python3"
  },
  "language_info": {
   "codemirror_mode": {
    "name": "ipython",
    "version": 3
   },
   "file_extension": ".py",
   "mimetype": "text/x-python",
   "name": "python",
   "nbconvert_exporter": "python",
   "pygments_lexer": "ipython3",
   "version": "3.9.18"
  }
 },
 "nbformat": 4,
 "nbformat_minor": 2
}
