{
 "cells": [
  {
   "cell_type": "code",
   "execution_count": 1,
   "metadata": {},
   "outputs": [],
   "source": [
    "## todo\n",
    "# README.md\n",
    "# optimizer : learning rate scheduler\n",
    "# layer : rnn, batch normalization\n",
    "# analysis : validation error\n",
    "# fit : callbacks\n",
    "\n",
    "# tf -> custom calcuration program"
   ]
  },
  {
   "cell_type": "code",
   "execution_count": 2,
   "metadata": {},
   "outputs": [],
   "source": [
    "import tensorflow as tf\n",
    "import numpy as np\n",
    "import matplotlib.pyplot as plt\n",
    "\n",
    "import k.Activations.functions as Activations\n",
    "import k.Layers.functions as Layers\n",
    "import k.Losses.functions as Losses\n",
    "import k.Optimizers.functions as Optimizers"
   ]
  },
  {
   "cell_type": "code",
   "execution_count": 3,
   "metadata": {},
   "outputs": [],
   "source": [
    "class Neural_network:\n",
    "    def __init__(self):\n",
    "        self.network = []\n",
    "\n",
    "    def to_object(self, param, class_):\n",
    "        if type(param) == str:\n",
    "            return class_(param)\n",
    "        return param\n",
    "\n",
    "    def compile(self, loss, optimizer):\n",
    "        self.loss = self.to_object(loss, Losses.function)\n",
    "        self.optimizer = self.to_object(optimizer, Optimizers.function)\n",
    "\n",
    "        for layer in self.network:\n",
    "            if not hasattr(layer, 'set_shape'):\n",
    "                continue\n",
    "\n",
    "            if layer.input_shape is None:\n",
    "                layer.input_shape = output_shape\n",
    "\n",
    "            layer.set_shape()\n",
    "            output_shape = layer.output_shape\n",
    "\n",
    "            if hasattr(layer, 'set_vars'):\n",
    "                layer.set_vars(self.optimizer)\n",
    "\n",
    "        self.network_depth = len(self.network)\n",
    "\n",
    "    def predict(self, data):\n",
    "        self.calcuration_graph = [data]\n",
    "\n",
    "        for layer in self.network:\n",
    "            data = layer.forward(data)\n",
    "            self.calcuration_graph.append(data)\n",
    "\n",
    "        return data\n",
    "\n",
    "    def evaluate(self, x, y):\n",
    "        loss = self.loss.forward(y, self.predict(x))\n",
    "        return loss\n",
    "\n",
    "    def fit(self, x, y, batch_size, epochs, verbose):\n",
    "        loss_graph = []\n",
    "\n",
    "        data_num = x.shape[0]\n",
    "\n",
    "        if batch_size > data_num:\n",
    "            batch_size = data_num\n",
    "\n",
    "        mini_batch_num = data_num//batch_size\n",
    "        epoch_digits = len(str(epochs))\n",
    "\n",
    "        for epoch in range(epochs):\n",
    "            for batch in range(mini_batch_num):\n",
    "                index = np.random.randint(data_num, size=batch_size)\n",
    "                batch_x = x[index, :]\n",
    "                batch_y = y[index, :]\n",
    "\n",
    "                batch_p = self.predict(batch_x)\n",
    "\n",
    "                loss = self.loss.forward(batch_y, batch_p)\n",
    "                gradients = self.loss.backward(batch_y, batch_p)\n",
    "                for i in range(self.network_depth):\n",
    "                    gradients = self.network[-i-1].backward(gradients, self.calcuration_graph[-i-2], self.calcuration_graph[-i-1])\n",
    "\n",
    "                if verbose == 2:\n",
    "                    print(f\"epoch: {epoch:0{epoch_digits}d}, batch: {batch}/{mini_batch_num} | loss: \", f'{loss:.4f}' if loss <= 0.0001 else f'{loss:.4e}')\n",
    "\n",
    "            if verbose == 1:\n",
    "                print(f\"epoch: {epoch:0{epoch_digits}d} | loss: \", f'{loss:.4f}' if loss > 0.0001 else f'{loss:.4e}')\n",
    "\n",
    "            loss_graph.append(loss)\n",
    "\n",
    "        return np.array(loss_graph)"
   ]
  },
  {
   "cell_type": "code",
   "execution_count": 4,
   "metadata": {},
   "outputs": [],
   "source": [
    "x = np.array([[[i+j+k for k in range(10)] for j in range(10)] for i in range(1000)], dtype=np.float32) / 1000\n",
    "y = np.array([[(x[i][-1][-1])] for i in range(1000)])\n",
    "\n",
    "random_idx = np.random.randint(1000, size=200)\n",
    "test_x, test_y = x[random_idx], y[random_idx]\n",
    "train_x = np.delete(x, random_idx, axis=0)\n",
    "train_y = np.delete(y, random_idx, axis=0)"
   ]
  },
  {
   "cell_type": "code",
   "execution_count": 5,
   "metadata": {},
   "outputs": [
    {
     "name": "stderr",
     "output_type": "stream",
     "text": [
      "2024-03-14 11:34:04.879457: I tensorflow/core/platform/cpu_feature_guard.cc:193] This TensorFlow binary is optimized with oneAPI Deep Neural Network Library (oneDNN) to use the following CPU instructions in performance-critical operations:  SSE4.1 SSE4.2 AVX AVX2 FMA\n",
      "To enable them in other operations, rebuild TensorFlow with the appropriate compiler flags.\n",
      "2024-03-14 11:34:04.880719: I tensorflow/core/common_runtime/process_util.cc:146] Creating new thread pool with default inter op setting: 2. Tune using inter_op_parallelism_threads for best performance.\n"
     ]
    }
   ],
   "source": [
    "model = Neural_network()\n",
    "model.network.append(Layers.Recurrent_network(input_shape=train_x.shape[1::], output_shape=32))\n",
    "model.network.append(Activations.Tanh())\n",
    "model.network.append(Layers.Dense(output_shape=32))\n",
    "model.network.append(Activations.ReLU())\n",
    "model.network.append(Layers.Dense(output_shape=1))\n",
    "model.network.append(Activations.Linear())\n",
    "\n",
    "optimizer = Optimizers.Adam(learning_rate=1e-4)\n",
    "model.compile('mse', optimizer)"
   ]
  },
  {
   "cell_type": "code",
   "execution_count": 6,
   "metadata": {},
   "outputs": [
    {
     "data": {
      "text/plain": [
       "<tf.Tensor: shape=(), dtype=float32, numpy=0.95509094>"
      ]
     },
     "execution_count": 6,
     "metadata": {},
     "output_type": "execute_result"
    }
   ],
   "source": [
    "model.evaluate(test_x, test_y)"
   ]
  },
  {
   "cell_type": "code",
   "execution_count": 7,
   "metadata": {},
   "outputs": [
    {
     "name": "stdout",
     "output_type": "stream",
     "text": [
      "epoch: 000 | loss:  0.9443\n",
      "epoch: 001 | loss:  0.7813\n",
      "epoch: 002 | loss:  0.7827\n",
      "epoch: 003 | loss:  0.6410\n",
      "epoch: 004 | loss:  0.7668\n",
      "epoch: 005 | loss:  0.5842\n",
      "epoch: 006 | loss:  0.5978\n",
      "epoch: 007 | loss:  0.5691\n",
      "epoch: 008 | loss:  0.5568\n",
      "epoch: 009 | loss:  0.4145\n",
      "epoch: 010 | loss:  0.3397\n",
      "epoch: 011 | loss:  0.2982\n",
      "epoch: 012 | loss:  0.2498\n",
      "epoch: 013 | loss:  0.2922\n",
      "epoch: 014 | loss:  0.2390\n",
      "epoch: 015 | loss:  0.2060\n",
      "epoch: 016 | loss:  0.1160\n",
      "epoch: 017 | loss:  0.1350\n",
      "epoch: 018 | loss:  0.1105\n",
      "epoch: 019 | loss:  0.1392\n",
      "epoch: 020 | loss:  0.1445\n",
      "epoch: 021 | loss:  0.1113\n",
      "epoch: 022 | loss:  0.1076\n",
      "epoch: 023 | loss:  0.0843\n",
      "epoch: 024 | loss:  0.0804\n",
      "epoch: 025 | loss:  0.0758\n",
      "epoch: 026 | loss:  0.0714\n",
      "epoch: 027 | loss:  0.0627\n",
      "epoch: 028 | loss:  0.0477\n",
      "epoch: 029 | loss:  0.0609\n",
      "epoch: 030 | loss:  0.0567\n",
      "epoch: 031 | loss:  0.0413\n",
      "epoch: 032 | loss:  0.0625\n",
      "epoch: 033 | loss:  0.0588\n",
      "epoch: 034 | loss:  0.0420\n",
      "epoch: 035 | loss:  0.0488\n",
      "epoch: 036 | loss:  0.0493\n",
      "epoch: 037 | loss:  0.0488\n",
      "epoch: 038 | loss:  0.0358\n",
      "epoch: 039 | loss:  0.0494\n",
      "epoch: 040 | loss:  0.0554\n",
      "epoch: 041 | loss:  0.0425\n",
      "epoch: 042 | loss:  0.0303\n",
      "epoch: 043 | loss:  0.0252\n",
      "epoch: 044 | loss:  0.0415\n",
      "epoch: 045 | loss:  0.0294\n",
      "epoch: 046 | loss:  0.0231\n",
      "epoch: 047 | loss:  0.0226\n",
      "epoch: 048 | loss:  0.0125\n",
      "epoch: 049 | loss:  0.0122\n",
      "epoch: 050 | loss:  0.0139\n",
      "epoch: 051 | loss:  0.0103\n",
      "epoch: 052 | loss:  0.0075\n",
      "epoch: 053 | loss:  0.0085\n",
      "epoch: 054 | loss:  0.0114\n",
      "epoch: 055 | loss:  0.0079\n",
      "epoch: 056 | loss:  0.0044\n",
      "epoch: 057 | loss:  0.0065\n",
      "epoch: 058 | loss:  0.0077\n",
      "epoch: 059 | loss:  0.0051\n",
      "epoch: 060 | loss:  0.0059\n",
      "epoch: 061 | loss:  0.0041\n",
      "epoch: 062 | loss:  0.0024\n",
      "epoch: 063 | loss:  0.0036\n",
      "epoch: 064 | loss:  0.0021\n",
      "epoch: 065 | loss:  0.0020\n",
      "epoch: 066 | loss:  0.0022\n",
      "epoch: 067 | loss:  0.0011\n",
      "epoch: 068 | loss:  0.0012\n",
      "epoch: 069 | loss:  0.0014\n",
      "epoch: 070 | loss:  0.0017\n",
      "epoch: 071 | loss:  0.0008\n",
      "epoch: 072 | loss:  0.0017\n",
      "epoch: 073 | loss:  0.0010\n",
      "epoch: 074 | loss:  0.0009\n",
      "epoch: 075 | loss:  0.0005\n",
      "epoch: 076 | loss:  0.0011\n",
      "epoch: 077 | loss:  0.0006\n",
      "epoch: 078 | loss:  0.0006\n",
      "epoch: 079 | loss:  0.0005\n",
      "epoch: 080 | loss:  0.0005\n",
      "epoch: 081 | loss:  0.0005\n",
      "epoch: 082 | loss:  0.0004\n",
      "epoch: 083 | loss:  0.0005\n",
      "epoch: 084 | loss:  0.0004\n",
      "epoch: 085 | loss:  0.0005\n",
      "epoch: 086 | loss:  0.0003\n",
      "epoch: 087 | loss:  0.0004\n",
      "epoch: 088 | loss:  0.0003\n",
      "epoch: 089 | loss:  0.0002\n",
      "epoch: 090 | loss:  0.0003\n",
      "epoch: 091 | loss:  0.0004\n",
      "epoch: 092 | loss:  0.0003\n",
      "epoch: 093 | loss:  0.0003\n",
      "epoch: 094 | loss:  0.0002\n",
      "epoch: 095 | loss:  0.0001\n",
      "epoch: 096 | loss:  0.0002\n",
      "epoch: 097 | loss:  0.0001\n",
      "epoch: 098 | loss:  0.0002\n",
      "epoch: 099 | loss:  0.0001\n"
     ]
    }
   ],
   "source": [
    "hist = model.fit(train_x, train_y, batch_size=64, epochs=100, verbose=1)"
   ]
  },
  {
   "cell_type": "code",
   "execution_count": 8,
   "metadata": {},
   "outputs": [
    {
     "data": {
      "image/png": "[encoded data removed]",
      "text/plain": [
       "<Figure size 640x480 with 1 Axes>"
      ]
     },
     "metadata": {},
     "output_type": "display_data"
    }
   ],
   "source": [
    "plt.plot(hist)\n",
    "plt.show()"
   ]
  },
  {
   "cell_type": "code",
   "execution_count": 9,
   "metadata": {},
   "outputs": [
    {
     "data": {
      "text/plain": [
       "<tf.Tensor: shape=(), dtype=float32, numpy=0.00020437043>"
      ]
     },
     "execution_count": 9,
     "metadata": {},
     "output_type": "execute_result"
    }
   ],
   "source": [
    "model.evaluate(test_x, test_y)"
   ]
  },
  {
   "cell_type": "markdown",
   "metadata": {},
   "source": [
    "make tensorflow model to compare"
   ]
  },
  {
   "cell_type": "code",
   "execution_count": 10,
   "metadata": {},
   "outputs": [],
   "source": [
    "tf_model = tf.keras.Sequential()\n",
    "tf_model.add(tf.keras.layers.SimpleRNN(32, input_shape=train_x.shape[1::], activation='tanh'))\n",
    "tf_model.add(tf.keras.layers.Dense(32, activation='relu'))\n",
    "tf_model.add(tf.keras.layers.Dense(1, activation='linear'))\n",
    "\n",
    "optimizer = tf.keras.optimizers.Adam(learning_rate=1e-4)\n",
    "tf_model.compile(loss='mse', optimizer=optimizer)"
   ]
  },
  {
   "cell_type": "code",
   "execution_count": 11,
   "metadata": {},
   "outputs": [
    {
     "name": "stdout",
     "output_type": "stream",
     "text": [
      "7/7 [==============================] - 0s 3ms/step - loss: 2.4090\n"
     ]
    },
    {
     "data": {
      "text/plain": [
       "2.409003973007202"
      ]
     },
     "execution_count": 11,
     "metadata": {},
     "output_type": "execute_result"
    }
   ],
   "source": [
    "tf_model.evaluate(test_x, test_y)"
   ]
  },
  {
   "cell_type": "code",
   "execution_count": 12,
   "metadata": {},
   "outputs": [
    {
     "name": "stdout",
     "output_type": "stream",
     "text": [
      "Epoch 1/100\n",
      "13/13 [==============================] - 1s 3ms/step - loss: 2.1257\n",
      "Epoch 2/100\n",
      "13/13 [==============================] - 0s 3ms/step - loss: 1.5031\n",
      "Epoch 3/100\n",
      "13/13 [==============================] - 0s 3ms/step - loss: 1.0063\n",
      "Epoch 4/100\n",
      "13/13 [==============================] - 0s 3ms/step - loss: 0.6326\n",
      "Epoch 5/100\n",
      "13/13 [==============================] - 0s 3ms/step - loss: 0.3545\n",
      "Epoch 6/100\n",
      "13/13 [==============================] - 0s 3ms/step - loss: 0.1721\n",
      "Epoch 7/100\n",
      "13/13 [==============================] - 0s 3ms/step - loss: 0.0865\n",
      "Epoch 8/100\n",
      "13/13 [==============================] - 0s 5ms/step - loss: 0.0515\n",
      "Epoch 9/100\n",
      "13/13 [==============================] - 0s 6ms/step - loss: 0.0349\n",
      "Epoch 10/100\n",
      "13/13 [==============================] - 0s 8ms/step - loss: 0.0254\n",
      "Epoch 11/100\n",
      "13/13 [==============================] - 0s 5ms/step - loss: 0.0190\n",
      "Epoch 12/100\n",
      "13/13 [==============================] - 0s 5ms/step - loss: 0.0138\n",
      "Epoch 13/100\n",
      "13/13 [==============================] - 0s 4ms/step - loss: 0.0100\n",
      "Epoch 14/100\n",
      "13/13 [==============================] - 0s 5ms/step - loss: 0.0072\n",
      "Epoch 15/100\n",
      "13/13 [==============================] - 0s 4ms/step - loss: 0.0053\n",
      "Epoch 16/100\n",
      "13/13 [==============================] - 0s 4ms/step - loss: 0.0038\n",
      "Epoch 17/100\n",
      "13/13 [==============================] - 0s 3ms/step - loss: 0.0028\n",
      "Epoch 18/100\n",
      "13/13 [==============================] - 0s 3ms/step - loss: 0.0022\n",
      "Epoch 19/100\n",
      "13/13 [==============================] - 0s 3ms/step - loss: 0.0017\n",
      "Epoch 20/100\n",
      "13/13 [==============================] - 0s 5ms/step - loss: 0.0013\n",
      "Epoch 21/100\n",
      "13/13 [==============================] - 0s 4ms/step - loss: 0.0011\n",
      "Epoch 22/100\n",
      "13/13 [==============================] - 0s 4ms/step - loss: 8.7233e-04\n",
      "Epoch 23/100\n",
      "13/13 [==============================] - 0s 7ms/step - loss: 7.4278e-04\n",
      "Epoch 24/100\n",
      "13/13 [==============================] - 0s 7ms/step - loss: 6.3809e-04\n",
      "Epoch 25/100\n",
      "13/13 [==============================] - 0s 8ms/step - loss: 5.5862e-04\n",
      "Epoch 26/100\n",
      "13/13 [==============================] - 0s 4ms/step - loss: 4.9769e-04\n",
      "Epoch 27/100\n",
      "13/13 [==============================] - 0s 5ms/step - loss: 4.4768e-04\n",
      "Epoch 28/100\n",
      "13/13 [==============================] - 0s 4ms/step - loss: 4.0753e-04\n",
      "Epoch 29/100\n",
      "13/13 [==============================] - 0s 4ms/step - loss: 3.7538e-04\n",
      "Epoch 30/100\n",
      "13/13 [==============================] - 0s 3ms/step - loss: 3.4563e-04\n",
      "Epoch 31/100\n",
      "13/13 [==============================] - 0s 5ms/step - loss: 3.2006e-04\n",
      "Epoch 32/100\n",
      "13/13 [==============================] - 0s 4ms/step - loss: 2.9853e-04\n",
      "Epoch 33/100\n",
      "13/13 [==============================] - 0s 3ms/step - loss: 2.7836e-04\n",
      "Epoch 34/100\n",
      "13/13 [==============================] - 0s 5ms/step - loss: 2.6053e-04\n",
      "Epoch 35/100\n",
      "13/13 [==============================] - 0s 6ms/step - loss: 2.4478e-04\n",
      "Epoch 36/100\n",
      "13/13 [==============================] - 0s 5ms/step - loss: 2.3009e-04\n",
      "Epoch 37/100\n",
      "13/13 [==============================] - 0s 4ms/step - loss: 2.1635e-04\n",
      "Epoch 38/100\n",
      "13/13 [==============================] - 0s 3ms/step - loss: 2.0394e-04\n",
      "Epoch 39/100\n",
      "13/13 [==============================] - 0s 4ms/step - loss: 1.9234e-04\n",
      "Epoch 40/100\n",
      "13/13 [==============================] - 0s 3ms/step - loss: 1.8220e-04\n",
      "Epoch 41/100\n",
      "13/13 [==============================] - 0s 2ms/step - loss: 1.7237e-04\n",
      "Epoch 42/100\n",
      "13/13 [==============================] - 0s 2ms/step - loss: 1.6312e-04\n",
      "Epoch 43/100\n",
      "13/13 [==============================] - 0s 3ms/step - loss: 1.5517e-04\n",
      "Epoch 44/100\n",
      "13/13 [==============================] - 0s 3ms/step - loss: 1.4748e-04\n",
      "Epoch 45/100\n",
      "13/13 [==============================] - 0s 4ms/step - loss: 1.4055e-04\n",
      "Epoch 46/100\n",
      "13/13 [==============================] - 0s 3ms/step - loss: 1.3408e-04\n",
      "Epoch 47/100\n",
      "13/13 [==============================] - 0s 3ms/step - loss: 1.2795e-04\n",
      "Epoch 48/100\n",
      "13/13 [==============================] - 0s 3ms/step - loss: 1.2265e-04\n",
      "Epoch 49/100\n",
      "13/13 [==============================] - 0s 3ms/step - loss: 1.1754e-04\n",
      "Epoch 50/100\n",
      "13/13 [==============================] - 0s 3ms/step - loss: 1.1289e-04\n",
      "Epoch 51/100\n",
      "13/13 [==============================] - 0s 3ms/step - loss: 1.0838e-04\n",
      "Epoch 52/100\n",
      "13/13 [==============================] - 0s 3ms/step - loss: 1.0433e-04\n",
      "Epoch 53/100\n",
      "13/13 [==============================] - 0s 3ms/step - loss: 1.0065e-04\n",
      "Epoch 54/100\n",
      "13/13 [==============================] - 0s 4ms/step - loss: 9.7063e-05\n",
      "Epoch 55/100\n",
      "13/13 [==============================] - 0s 3ms/step - loss: 9.3960e-05\n",
      "Epoch 56/100\n",
      "13/13 [==============================] - 0s 3ms/step - loss: 9.1018e-05\n",
      "Epoch 57/100\n",
      "13/13 [==============================] - 0s 6ms/step - loss: 8.7985e-05\n",
      "Epoch 58/100\n",
      "13/13 [==============================] - 0s 5ms/step - loss: 8.5339e-05\n",
      "Epoch 59/100\n",
      "13/13 [==============================] - 0s 4ms/step - loss: 8.2832e-05\n",
      "Epoch 60/100\n",
      "13/13 [==============================] - 0s 5ms/step - loss: 8.0580e-05\n",
      "Epoch 61/100\n",
      "13/13 [==============================] - 0s 4ms/step - loss: 7.8211e-05\n",
      "Epoch 62/100\n",
      "13/13 [==============================] - 0s 4ms/step - loss: 7.6103e-05\n",
      "Epoch 63/100\n",
      "13/13 [==============================] - 0s 4ms/step - loss: 7.4079e-05\n",
      "Epoch 64/100\n",
      "13/13 [==============================] - 0s 4ms/step - loss: 7.2076e-05\n",
      "Epoch 65/100\n",
      "13/13 [==============================] - 0s 4ms/step - loss: 7.0293e-05\n",
      "Epoch 66/100\n",
      "13/13 [==============================] - 0s 6ms/step - loss: 6.8493e-05\n",
      "Epoch 67/100\n",
      "13/13 [==============================] - 0s 5ms/step - loss: 6.6725e-05\n",
      "Epoch 68/100\n",
      "13/13 [==============================] - 0s 6ms/step - loss: 6.5122e-05\n",
      "Epoch 69/100\n",
      "13/13 [==============================] - 0s 8ms/step - loss: 6.3526e-05\n",
      "Epoch 70/100\n",
      "13/13 [==============================] - 0s 5ms/step - loss: 6.2042e-05\n",
      "Epoch 71/100\n",
      "13/13 [==============================] - 0s 3ms/step - loss: 6.0566e-05\n",
      "Epoch 72/100\n",
      "13/13 [==============================] - 0s 3ms/step - loss: 5.9123e-05\n",
      "Epoch 73/100\n",
      "13/13 [==============================] - 0s 3ms/step - loss: 5.7835e-05\n",
      "Epoch 74/100\n",
      "13/13 [==============================] - 0s 3ms/step - loss: 5.6483e-05\n",
      "Epoch 75/100\n",
      "13/13 [==============================] - 0s 3ms/step - loss: 5.5238e-05\n",
      "Epoch 76/100\n",
      "13/13 [==============================] - 0s 5ms/step - loss: 5.4062e-05\n",
      "Epoch 77/100\n",
      "13/13 [==============================] - 0s 5ms/step - loss: 5.2895e-05\n",
      "Epoch 78/100\n",
      "13/13 [==============================] - 0s 5ms/step - loss: 5.1834e-05\n",
      "Epoch 79/100\n",
      "13/13 [==============================] - 0s 5ms/step - loss: 5.0714e-05\n",
      "Epoch 80/100\n",
      "13/13 [==============================] - 0s 4ms/step - loss: 4.9820e-05\n",
      "Epoch 81/100\n",
      "13/13 [==============================] - 0s 5ms/step - loss: 4.8735e-05\n",
      "Epoch 82/100\n",
      "13/13 [==============================] - 0s 4ms/step - loss: 4.7805e-05\n",
      "Epoch 83/100\n",
      "13/13 [==============================] - 0s 5ms/step - loss: 4.6991e-05\n",
      "Epoch 84/100\n",
      "13/13 [==============================] - 0s 4ms/step - loss: 4.6011e-05\n",
      "Epoch 85/100\n",
      "13/13 [==============================] - 0s 5ms/step - loss: 4.5221e-05\n",
      "Epoch 86/100\n",
      "13/13 [==============================] - 0s 4ms/step - loss: 4.4361e-05\n",
      "Epoch 87/100\n",
      "13/13 [==============================] - 0s 4ms/step - loss: 4.3578e-05\n",
      "Epoch 88/100\n",
      "13/13 [==============================] - 0s 6ms/step - loss: 4.2853e-05\n",
      "Epoch 89/100\n",
      "13/13 [==============================] - 0s 5ms/step - loss: 4.2135e-05\n",
      "Epoch 90/100\n",
      "13/13 [==============================] - 0s 5ms/step - loss: 4.1342e-05\n",
      "Epoch 91/100\n",
      "13/13 [==============================] - 0s 5ms/step - loss: 4.0689e-05\n",
      "Epoch 92/100\n",
      "13/13 [==============================] - 0s 4ms/step - loss: 4.0043e-05\n",
      "Epoch 93/100\n",
      "13/13 [==============================] - 0s 4ms/step - loss: 3.9345e-05\n",
      "Epoch 94/100\n",
      "13/13 [==============================] - 0s 18ms/step - loss: 3.8774e-05\n",
      "Epoch 95/100\n",
      "13/13 [==============================] - 0s 7ms/step - loss: 3.8210e-05\n",
      "Epoch 96/100\n",
      "13/13 [==============================] - 0s 6ms/step - loss: 3.7690e-05\n",
      "Epoch 97/100\n",
      "13/13 [==============================] - 0s 4ms/step - loss: 3.7063e-05\n",
      "Epoch 98/100\n",
      "13/13 [==============================] - 0s 3ms/step - loss: 3.6627e-05\n",
      "Epoch 99/100\n",
      "13/13 [==============================] - 0s 4ms/step - loss: 3.5898e-05\n",
      "Epoch 100/100\n",
      "13/13 [==============================] - 0s 4ms/step - loss: 3.5554e-05\n"
     ]
    }
   ],
   "source": [
    "tf_hist = tf_model.fit(train_x, train_y, epochs=100, batch_size=64, verbose=1)"
   ]
  },
  {
   "cell_type": "code",
   "execution_count": 13,
   "metadata": {},
   "outputs": [
    {
     "data": {
      "image/png": "[encoded data removed]",
      "text/plain": [
       "<Figure size 640x480 with 1 Axes>"
      ]
     },
     "metadata": {},
     "output_type": "display_data"
    }
   ],
   "source": [
    "plt.plot(tf_hist.history['loss'])\n",
    "plt.show()"
   ]
  },
  {
   "cell_type": "code",
   "execution_count": 14,
   "metadata": {},
   "outputs": [
    {
     "name": "stdout",
     "output_type": "stream",
     "text": [
      "7/7 [==============================] - 0s 2ms/step - loss: 4.2305e-05\n"
     ]
    },
    {
     "data": {
      "text/plain": [
       "4.2304509406676516e-05"
      ]
     },
     "execution_count": 14,
     "metadata": {},
     "output_type": "execute_result"
    }
   ],
   "source": [
    "tf_model.evaluate(test_x, test_y)"
   ]
  },
  {
   "cell_type": "code",
   "execution_count": null,
   "metadata": {},
   "outputs": [],
   "source": []
  }
 ],
 "metadata": {
  "kernelspec": {
   "display_name": "lab",
   "language": "python",
   "name": "python3"
  },
  "language_info": {
   "codemirror_mode": {
    "name": "ipython",
    "version": 3
   },
   "file_extension": ".py",
   "mimetype": "text/x-python",
   "name": "python",
   "nbconvert_exporter": "python",
   "pygments_lexer": "ipython3",
   "version": "3.9.0"
  }
 },
 "nbformat": 4,
 "nbformat_minor": 2
}
