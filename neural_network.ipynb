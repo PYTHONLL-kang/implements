{
 "cells": [
  {
   "cell_type": "code",
   "execution_count": 1,
   "metadata": {},
   "outputs": [],
   "source": [
    "## todo\n",
    "# README.md\n",
    "# optimizer : learning rate scheduler\n",
    "# layer : rnn, batch normalization\n",
    "# analysis : validation error\n",
    "# fit : callbacks\n",
    "\n",
    "# tf -> custom calcuration program"
   ]
  },
  {
   "cell_type": "code",
   "execution_count": 2,
   "metadata": {},
   "outputs": [
    {
     "name": "stderr",
     "output_type": "stream",
     "text": [
      "2024-04-08 09:48:08.953117: I tensorflow/core/platform/cpu_feature_guard.cc:182] This TensorFlow binary is optimized to use available CPU instructions in performance-critical operations.\n",
      "To enable the following instructions: SSE4.1 SSE4.2 AVX AVX2 FMA, in other operations, rebuild TensorFlow with the appropriate compiler flags.\n"
     ]
    }
   ],
   "source": [
    "import tensorflow as tf\n",
    "import numpy as np\n",
    "import matplotlib.pyplot as plt\n",
    "\n",
    "import k.Activations.functions as Activations\n",
    "import k.Layers.functions as Layers\n",
    "import k.Losses.functions as Losses\n",
    "import k.Optimizers.functions as Optimizers\n",
    "import k.Initializers.functions as Initializer"
   ]
  },
  {
   "cell_type": "code",
   "execution_count": 3,
   "metadata": {},
   "outputs": [],
   "source": [
    "class Neural_network:\n",
    "    def __init__(self):\n",
    "        self.network = []\n",
    "\n",
    "    def to_object(self, param, class_):\n",
    "        if type(param) == str:\n",
    "            return class_(param)\n",
    "        return param\n",
    "\n",
    "    def compile(self, loss, optimizer, **kwargs):\n",
    "        self.loss = self.to_object(loss, Losses.function)\n",
    "        self.optimizer = self.to_object(optimizer, Optimizers.function)\n",
    "        self.metrics = self.to_object(kwargs.get(\"metrics\"), Losses.function)\n",
    "\n",
    "        for layer in self.network:\n",
    "            if not hasattr(layer, 'set_shape'):\n",
    "                continue\n",
    "\n",
    "            if layer.input_shape is None:\n",
    "                layer.input_shape = output_shape\n",
    "\n",
    "            layer.set_shape()\n",
    "            output_shape = layer.output_shape\n",
    "\n",
    "            if hasattr(layer, 'set_vars'):\n",
    "                layer.set_vars(self.optimizer)\n",
    "\n",
    "        self.network_depth = len(self.network)\n",
    "\n",
    "    def predict(self, data):\n",
    "        self.calcuration_graph = [data]\n",
    "\n",
    "        for layer in self.network:\n",
    "            data = layer.forward(data)\n",
    "            self.calcuration_graph.append(data)\n",
    "\n",
    "        return data\n",
    "\n",
    "    def evaluate(self, x, y, **kwargs):\n",
    "        graph_dict = {'loss' : [], 'metrics' : []}\n",
    "\n",
    "        pred = self.predict(x)\n",
    "        loss = self.loss.forward(y, pred)\n",
    "        graph_dict['loss'] = loss\n",
    "\n",
    "        metrics = kwargs.get(\"metrics\")\n",
    "        if metrics is not None:\n",
    "            graph_dict['metrics'] = self.to_object(metrics, Losses.function).forward(y, pred)\n",
    "\n",
    "        return graph_dict\n",
    "\n",
    "    def print_expression(self, value):\n",
    "        return f'{value:.4f}' if value > 0.0001 else f'{value:.4e}'\n",
    "\n",
    "    def fit(self, x, y, batch_size, epochs, verbose, **kwargs):\n",
    "        verbose = kwargs.get(\"verbose\", 1)\n",
    "        validation_data = kwargs.get(\"validation_data\")\n",
    "\n",
    "        graph_dict = {'loss' : [], 'val_loss' : [], 'metrics' : []}\n",
    "        print_list = ['' for i in range(5)]\n",
    "\n",
    "        data_num = x.shape[0]\n",
    "\n",
    "        if batch_size > data_num:\n",
    "            batch_size = data_num\n",
    "\n",
    "        mini_batch_num = data_num//batch_size\n",
    "        epoch_digits = len(str(epochs))\n",
    "\n",
    "        for epoch in range(1, epochs+1):\n",
    "            print_list[0] = f'epoch: {epoch:0{epoch_digits}d}'\n",
    "\n",
    "            for batch in range(mini_batch_num):\n",
    "                index = np.random.randint(data_num, size=batch_size)\n",
    "                batch_x = x[index, :]\n",
    "                batch_y = y[index, :]\n",
    "\n",
    "                batch_p = self.predict(batch_x)\n",
    "\n",
    "                loss = self.loss.forward(batch_y, batch_p)\n",
    "                gradients = self.loss.backward(batch_y, batch_p)\n",
    "                for i in range(self.network_depth):\n",
    "                    gradients = self.network[-i-1].backward(gradients, self.calcuration_graph[-i-2], self.calcuration_graph[-i-1])\n",
    "\n",
    "                \n",
    "                print_list[1] = ' | batch : ' + f'{batch}/{mini_batch_num}'\n",
    "                print_list[2] = ' | loss : ' + self.print_expression(loss)\n",
    "\n",
    "                if verbose == 2:\n",
    "                    print(print_list[0], print_list[1], print_list[2])\n",
    "\n",
    "            if validation_data is not None:\n",
    "                validation_loss = self.loss.forward(validation_data[1], self.predict(validation_data[0]))\n",
    "                graph_dict['val_loss'].append(validation_loss)\n",
    "                print_list[3] = ' | val_loss : ' + self.print_expression(validation_loss)\n",
    "\n",
    "            if self.metrics is not None:\n",
    "                metrics_value = self.metrics.forward(batch_y, batch_p)\n",
    "                graph_dict['metrics'].append(metrics_value)\n",
    "                print_list[4] = ' | metrics : ' + self.print_expression(metrics_value)\n",
    "\n",
    "            if verbose == 1:\n",
    "                print(print_list[0], print_list[2], print_list[3], print_list[4])\n",
    "\n",
    "            graph_dict['loss'].append(loss)\n",
    "\n",
    "        return graph_dict"
   ]
  },
  {
   "cell_type": "code",
   "execution_count": 4,
   "metadata": {},
   "outputs": [],
   "source": [
    "(x_train, y_train), (x_test, y_test) = tf.keras.datasets.mnist.load_data()"
   ]
  },
  {
   "cell_type": "code",
   "execution_count": 5,
   "metadata": {},
   "outputs": [],
   "source": [
    "x_train = np.array(x_train).reshape(x_train.shape[0], x_train.shape[1], x_train.shape[2], 1)[0:1000]\n",
    "x_test = np.array(x_test).reshape(x_test.shape[0], x_test.shape[1], x_test.shape[2], 1)[0:100]\n",
    "y_train = np.array(y_train).reshape(y_train.shape[0], 1)[0:1000]\n",
    "y_test = np.array(y_test).reshape(y_test.shape[0], 1)[0:100]"
   ]
  },
  {
   "cell_type": "code",
   "execution_count": 6,
   "metadata": {},
   "outputs": [],
   "source": [
    "x_train = x_train / 255\n",
    "x_test = x_test / 255"
   ]
  },
  {
   "cell_type": "code",
   "execution_count": 7,
   "metadata": {},
   "outputs": [],
   "source": [
    "y_train = np.eye(np.unique(y_train, axis=0).shape[0])[y_train][:,0,:]\n",
    "y_test = np.eye(np.unique(y_test, axis=0).shape[0])[y_test][:,0,:]"
   ]
  },
  {
   "cell_type": "code",
   "execution_count": 11,
   "metadata": {},
   "outputs": [],
   "source": [
    "model = Neural_network()\n",
    "model.network.append(Layers.Convolution2D(input_shape=x_train.shape[1::], filters=128, kernel_shape=(3, 3)))\n",
    "model.network.append(Activations.ReLU())\n",
    "model.network.append(Layers.Pooling2D(pool_type='max'))\n",
    "model.network.append(Layers.Convolution2D(filters=64, kernel_shape=(2, 2)))\n",
    "model.network.append(Activations.ReLU())\n",
    "model.network.append(Layers.Pooling2D(pool_type='mean'))\n",
    "model.network.append(Layers.Flatten())\n",
    "model.network.append(Layers.Dense(output_shape=32))\n",
    "model.network.append(Activations.ReLU())\n",
    "model.network.append(Layers.Dense(output_shape=10))\n",
    "model.network.append(Activations.Softmax())\n",
    "\n",
    "optimizer = Optimizers.Adam(learning_rate=1e-4)\n",
    "model.compile('cce', optimizer, metrics='mae')"
   ]
  },
  {
   "cell_type": "code",
   "execution_count": 12,
   "metadata": {},
   "outputs": [
    {
     "data": {
      "text/plain": [
       "{'loss': <tf.Tensor: shape=(), dtype=float32, numpy=0.5412897>, 'metrics': []}"
      ]
     },
     "execution_count": 12,
     "metadata": {},
     "output_type": "execute_result"
    }
   ],
   "source": [
    "model.evaluate(x_test, y_test)"
   ]
  },
  {
   "cell_type": "code",
   "execution_count": 13,
   "metadata": {},
   "outputs": [
    {
     "name": "stdout",
     "output_type": "stream",
     "text": [
      "epoch: 01  | loss : 0.2719  | val_loss : 0.2649  | metrics : 0.1590\n",
      "epoch: 02  | loss : 0.1555  | val_loss : 0.1972  | metrics : 0.1283\n",
      "epoch: 03  | loss : 0.1804  | val_loss : 0.1489  | metrics : 0.1344\n",
      "epoch: 04  | loss : 0.1375  | val_loss : 0.1316  | metrics : 0.1258\n",
      "epoch: 05  | loss : 0.1244  | val_loss : 0.1177  | metrics : 0.1168\n",
      "epoch: 06  | loss : 0.1097  | val_loss : 0.0927  | metrics : 0.1025\n",
      "epoch: 07  | loss : 0.1084  | val_loss : 0.0768  | metrics : 0.0923\n",
      "epoch: 08  | loss : 0.0930  | val_loss : 0.0657  | metrics : 0.0770\n",
      "epoch: 09  | loss : 0.0876  | val_loss : 0.0614  | metrics : 0.0754\n",
      "epoch: 10  | loss : 0.0677  | val_loss : 0.0582  | metrics : 0.0679\n"
     ]
    }
   ],
   "source": [
    "hist = model.fit(x_train, y_train, batch_size=256, epochs=10, verbose=1, validation_data=(x_test, y_test))"
   ]
  },
  {
   "cell_type": "code",
   "execution_count": 14,
   "metadata": {},
   "outputs": [
    {
     "data": {
      "image/png": "[encoded data removed]",
      "text/plain": [
       "<Figure size 640x480 with 1 Axes>"
      ]
     },
     "metadata": {},
     "output_type": "display_data"
    }
   ],
   "source": [
    "plt.plot(hist['loss'], label='loss')\n",
    "plt.plot(hist['val_loss'], label='val_loss')\n",
    "plt.legend()\n",
    "plt.show()"
   ]
  },
  {
   "cell_type": "code",
   "execution_count": 15,
   "metadata": {},
   "outputs": [
    {
     "data": {
      "text/plain": [
       "{'loss': <tf.Tensor: shape=(), dtype=float32, numpy=0.05817149>, 'metrics': []}"
      ]
     },
     "execution_count": 15,
     "metadata": {},
     "output_type": "execute_result"
    }
   ],
   "source": [
    "model.evaluate(x_test, y_test)"
   ]
  },
  {
   "cell_type": "markdown",
   "metadata": {},
   "source": [
    "### make tensorflow model to compare"
   ]
  },
  {
   "cell_type": "code",
   "execution_count": 16,
   "metadata": {},
   "outputs": [],
   "source": [
    "tf_model = tf.keras.Sequential()\n",
    "tf_model.add(tf.keras.layers.Conv2D(128, input_shape=x_train.shape[1::], kernel_size=3, activation='relu'))\n",
    "tf_model.add(tf.keras.layers.MaxPooling2D())\n",
    "tf_model.add(tf.keras.layers.Conv2D(64, kernel_size=2, activation='relu'))\n",
    "tf_model.add(tf.keras.layers.AveragePooling2D())\n",
    "tf_model.add(tf.keras.layers.Flatten())\n",
    "tf_model.add(tf.keras.layers.Dense(32, activation='relu'))\n",
    "tf_model.add(tf.keras.layers.Dense(10, activation='softmax'))\n",
    "\n",
    "optimizer = tf.keras.optimizers.Adam(learning_rate=1e-4)\n",
    "tf_model.compile(loss='categorical_crossentropy', optimizer=optimizer, metrics=['mae'])"
   ]
  },
  {
   "cell_type": "code",
   "execution_count": 17,
   "metadata": {},
   "outputs": [
    {
     "name": "stdout",
     "output_type": "stream",
     "text": [
      "4/4 [==============================] - 1s 20ms/step - loss: 2.2960 - mae: 0.1799\n"
     ]
    },
    {
     "data": {
      "text/plain": [
       "[2.295958995819092, 0.17985369265079498]"
      ]
     },
     "execution_count": 17,
     "metadata": {},
     "output_type": "execute_result"
    }
   ],
   "source": [
    "tf_model.evaluate(x_test, y_test)"
   ]
  },
  {
   "cell_type": "code",
   "execution_count": 18,
   "metadata": {},
   "outputs": [
    {
     "name": "stdout",
     "output_type": "stream",
     "text": [
      "Epoch 1/10\n",
      "4/4 [==============================] - 2s 279ms/step - loss: 2.2979 - mae: 0.1799 - val_loss: 2.2893 - val_mae: 0.1797\n",
      "Epoch 2/10\n",
      "4/4 [==============================] - 1s 260ms/step - loss: 2.2909 - mae: 0.1798 - val_loss: 2.2826 - val_mae: 0.1796\n",
      "Epoch 3/10\n",
      "4/4 [==============================] - 1s 242ms/step - loss: 2.2839 - mae: 0.1796 - val_loss: 2.2742 - val_mae: 0.1794\n",
      "Epoch 4/10\n",
      "4/4 [==============================] - 1s 260ms/step - loss: 2.2759 - mae: 0.1794 - val_loss: 2.2644 - val_mae: 0.1792\n",
      "Epoch 5/10\n",
      "4/4 [==============================] - 1s 249ms/step - loss: 2.2667 - mae: 0.1792 - val_loss: 2.2529 - val_mae: 0.1790\n",
      "Epoch 6/10\n",
      "4/4 [==============================] - 1s 263ms/step - loss: 2.2559 - mae: 0.1790 - val_loss: 2.2402 - val_mae: 0.1787\n",
      "Epoch 7/10\n",
      "4/4 [==============================] - 1s 322ms/step - loss: 2.2429 - mae: 0.1787 - val_loss: 2.2246 - val_mae: 0.1783\n",
      "Epoch 8/10\n",
      "4/4 [==============================] - 1s 233ms/step - loss: 2.2274 - mae: 0.1784 - val_loss: 2.2066 - val_mae: 0.1779\n",
      "Epoch 9/10\n",
      "4/4 [==============================] - 1s 220ms/step - loss: 2.2089 - mae: 0.1779 - val_loss: 2.1851 - val_mae: 0.1774\n",
      "Epoch 10/10\n",
      "4/4 [==============================] - 1s 226ms/step - loss: 2.1866 - mae: 0.1774 - val_loss: 2.1600 - val_mae: 0.1767\n"
     ]
    }
   ],
   "source": [
    "tf_hist = tf_model.fit(x_train, y_train, epochs=10, batch_size=256, verbose=1, validation_data=(x_test, y_test))"
   ]
  },
  {
   "cell_type": "code",
   "execution_count": 19,
   "metadata": {},
   "outputs": [
    {
     "data": {
      "image/png": "[encoded data removed]",
      "text/plain": [
       "<Figure size 640x480 with 1 Axes>"
      ]
     },
     "metadata": {},
     "output_type": "display_data"
    }
   ],
   "source": [
    "plt.plot(tf_hist.history['loss'], label='loss')\n",
    "plt.plot(tf_hist.history['val_loss'], label='val_loss')\n",
    "plt.legend()\n",
    "plt.show()"
   ]
  },
  {
   "cell_type": "code",
   "execution_count": 20,
   "metadata": {},
   "outputs": [
    {
     "name": "stdout",
     "output_type": "stream",
     "text": [
      "4/4 [==============================] - 0s 8ms/step - loss: 2.1600 - mae: 0.1767\n"
     ]
    },
    {
     "data": {
      "text/plain": [
       "[2.159982204437256, 0.17674823105335236]"
      ]
     },
     "execution_count": 20,
     "metadata": {},
     "output_type": "execute_result"
    }
   ],
   "source": [
    "tf_model.evaluate(x_test, y_test)"
   ]
  },
  {
   "cell_type": "code",
   "execution_count": null,
   "metadata": {},
   "outputs": [],
   "source": []
  }
 ],
 "metadata": {
  "kernelspec": {
   "display_name": "lab",
   "language": "python",
   "name": "python3"
  },
  "language_info": {
   "codemirror_mode": {
    "name": "ipython",
    "version": 3
   },
   "file_extension": ".py",
   "mimetype": "text/x-python",
   "name": "python",
   "nbconvert_exporter": "python",
   "pygments_lexer": "ipython3",
   "version": "3.9.18"
  }
 },
 "nbformat": 4,
 "nbformat_minor": 2
}
