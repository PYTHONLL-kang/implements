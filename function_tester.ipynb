{
 "cells": [
  {
   "cell_type": "code",
   "execution_count": 1,
   "metadata": {},
   "outputs": [],
   "source": [
    "## todo\n",
    "# README.md\n",
    "# optimizer : learning rate scheduler\n",
    "# layer : rnn, batch normalization\n",
    "# analysis : validation error\n",
    "# fit : callbacks\n",
    "\n",
    "# tf -> custom calcuration program"
   ]
  },
  {
   "cell_type": "code",
   "execution_count": 2,
   "metadata": {},
   "outputs": [
    {
     "name": "stderr",
     "output_type": "stream",
     "text": [
      "2024-04-10 14:28:24.019199: I tensorflow/core/platform/cpu_feature_guard.cc:182] This TensorFlow binary is optimized to use available CPU instructions in performance-critical operations.\n",
      "To enable the following instructions: SSE4.1 SSE4.2 AVX AVX2 FMA, in other operations, rebuild TensorFlow with the appropriate compiler flags.\n"
     ]
    }
   ],
   "source": [
    "import tensorflow as tf\n",
    "import numpy as np\n",
    "import matplotlib.pyplot as plt\n",
    "\n",
    "import k.Activations.functions as Activations\n",
    "import k.Layers.functions as Layers\n",
    "import k.Losses.functions as Losses\n",
    "import k.Optimizers.functions as Optimizers\n",
    "import k.Networks.functions as Networks"
   ]
  },
  {
   "cell_type": "code",
   "execution_count": 3,
   "metadata": {},
   "outputs": [
    {
     "name": "stdout",
     "output_type": "stream",
     "text": [
      "WARNING:tensorflow:Mixed precision compatibility check (mixed_float16): WARNING\n",
      "The dtype policy mixed_float16 may run slowly because this machine does not have a GPU. Only Nvidia GPUs with compute capability of at least 7.0 run quickly with mixed_float16.\n",
      "If you will use compatible GPU(s) not attached to this host, e.g. by running a multi-worker model, you can ignore this warning. This message will only be logged once\n"
     ]
    }
   ],
   "source": [
    "policy = tf.keras.mixed_precision.Policy('mixed_float16')\n",
    "tf.keras.mixed_precision.set_global_policy(policy)"
   ]
  },
  {
   "cell_type": "code",
   "execution_count": 4,
   "metadata": {},
   "outputs": [],
   "source": [
    "(x_train, y_train), (x_test, y_test) = tf.keras.datasets.mnist.load_data()"
   ]
  },
  {
   "cell_type": "code",
   "execution_count": 5,
   "metadata": {},
   "outputs": [],
   "source": [
    "# prevent oom...\n",
    "x_train = x_train.reshape(x_train.shape + (1,))[0:1000]\n",
    "y_train = y_train.reshape(y_train.shape + (1,))[0:1000]\n",
    "x_test = x_test.reshape(x_test.shape + (1,))[0:100]\n",
    "y_test = y_test.reshape(y_test.shape + (1,))[0:100]"
   ]
  },
  {
   "cell_type": "code",
   "execution_count": 6,
   "metadata": {},
   "outputs": [],
   "source": [
    "x_train = np.divide(x_train, 255)\n",
    "x_test = np.divide(x_test, 255)\n",
    "y_train = tf.keras.utils.to_categorical(y_train, 10)\n",
    "y_test = tf.keras.utils.to_categorical(y_test, 10)"
   ]
  },
  {
   "cell_type": "code",
   "execution_count": 7,
   "metadata": {},
   "outputs": [
    {
     "name": "stderr",
     "output_type": "stream",
     "text": [
      "2024-04-10 14:28:26.429727: I tensorflow/core/common_runtime/process_util.cc:146] Creating new thread pool with default inter op setting: 2. Tune using inter_op_parallelism_threads for best performance.\n"
     ]
    }
   ],
   "source": [
    "model = Networks.Neural_network()\n",
    "model.network.append(Layers.Convolution2D(input_shape=x_train.shape[1::], filters=128, kernel_shape=(3, 3)))\n",
    "model.network.append(Activations.ReLU())\n",
    "model.network.append(Layers.Pooling2D(pool_type='max'))\n",
    "model.network.append(Layers.Convolution2D(filters=64, kernel_shape=(2, 2)))\n",
    "model.network.append(Activations.ReLU())\n",
    "model.network.append(Layers.Flatten())\n",
    "model.network.append(Layers.Dense(output_shape=32))\n",
    "model.network.append(Activations.ReLU())\n",
    "model.network.append(Layers.Dense(output_shape=10))\n",
    "model.network.append(Activations.Softmax())\n",
    "\n",
    "optimizer = Optimizers.Adam(learning_rate=1e-4)\n",
    "model.compile('cce', optimizer, metrics='mae')"
   ]
  },
  {
   "cell_type": "code",
   "execution_count": 8,
   "metadata": {},
   "outputs": [
    {
     "data": {
      "text/plain": [
       "{'loss': <tf.Tensor: shape=(), dtype=float32, numpy=0.89238065>, 'metrics': []}"
      ]
     },
     "execution_count": 8,
     "metadata": {},
     "output_type": "execute_result"
    }
   ],
   "source": [
    "model.evaluate(x_test, y_test)"
   ]
  },
  {
   "cell_type": "code",
   "execution_count": 9,
   "metadata": {},
   "outputs": [
    {
     "name": "stdout",
     "output_type": "stream",
     "text": [
      "epoch: 01  | loss : 0.5079  | val_loss : 0.4607  | metrics : 0.1569\n",
      "epoch: 02  | loss : 0.3494  | val_loss : 0.2613  | metrics : 0.1263\n",
      "epoch: 03  | loss : 0.1836  | val_loss : 0.1347  | metrics : 0.1030\n",
      "epoch: 04  | loss : 0.1292  | val_loss : 0.1459  | metrics : 0.1057\n",
      "epoch: 05  | loss : 0.1140  | val_loss : 0.1465  | metrics : 0.1064\n",
      "epoch: 06  | loss : 0.1169  | val_loss : 0.1437  | metrics : 0.1080\n",
      "epoch: 07  | loss : 0.0986  | val_loss : 0.1245  | metrics : 0.0906\n",
      "epoch: 08  | loss : 0.0878  | val_loss : 0.1050  | metrics : 0.0781\n",
      "epoch: 09  | loss : 0.0812  | val_loss : 0.0944  | metrics : 0.0735\n",
      "epoch: 10  | loss : 0.0631  | val_loss : 0.0918  | metrics : 0.0586\n"
     ]
    }
   ],
   "source": [
    "hist = model.fit(x_train, y_train, batch_size=256, epochs=10, verbose=1, validation_data=(x_test, y_test))"
   ]
  },
  {
   "cell_type": "code",
   "execution_count": 10,
   "metadata": {},
   "outputs": [
    {
     "data": {
      "image/png": "[encoded data removed]",
      "text/plain": [
       "<Figure size 640x480 with 1 Axes>"
      ]
     },
     "metadata": {},
     "output_type": "display_data"
    }
   ],
   "source": [
    "plt.plot(hist['loss'], label='loss')\n",
    "plt.plot(hist['val_loss'], label='val_loss')\n",
    "plt.legend()\n",
    "plt.show()"
   ]
  },
  {
   "cell_type": "code",
   "execution_count": 11,
   "metadata": {},
   "outputs": [
    {
     "data": {
      "text/plain": [
       "{'loss': <tf.Tensor: shape=(), dtype=float32, numpy=0.09177614>, 'metrics': []}"
      ]
     },
     "execution_count": 11,
     "metadata": {},
     "output_type": "execute_result"
    }
   ],
   "source": [
    "model.evaluate(x_test, y_test)"
   ]
  },
  {
   "cell_type": "markdown",
   "metadata": {},
   "source": [
    "### make tensorflow model to compare"
   ]
  },
  {
   "cell_type": "code",
   "execution_count": 15,
   "metadata": {},
   "outputs": [],
   "source": [
    "tf_model = tf.keras.Sequential()\n",
    "tf_model.add(tf.keras.layers.Conv2D(128, input_shape=x_train.shape[1::], kernel_size=3, activation='relu'))\n",
    "tf_model.add(tf.keras.layers.MaxPooling2D())\n",
    "tf_model.add(tf.keras.layers.Conv2D(64, kernel_size=2, activation='relu'))\n",
    "tf_model.add(tf.keras.layers.Flatten())\n",
    "tf_model.add(tf.keras.layers.Dense(32, activation='relu'))\n",
    "tf_model.add(tf.keras.layers.Dense(10, activation='softmax'))\n",
    "\n",
    "optimizer = tf.keras.optimizers.Adam(learning_rate=1e-4)\n",
    "tf_model.compile(loss='categorical_crossentropy', optimizer=optimizer, metrics=['mae'])"
   ]
  },
  {
   "cell_type": "code",
   "execution_count": 16,
   "metadata": {},
   "outputs": [
    {
     "name": "stdout",
     "output_type": "stream",
     "text": [
      "4/4 [==============================] - 0s 33ms/step - loss: 2.3063 - mae: 0.1801\n"
     ]
    },
    {
     "data": {
      "text/plain": [
       "[2.3062500953674316, 0.18006449937820435]"
      ]
     },
     "execution_count": 16,
     "metadata": {},
     "output_type": "execute_result"
    }
   ],
   "source": [
    "tf_model.evaluate(x_test, y_test)"
   ]
  },
  {
   "cell_type": "code",
   "execution_count": 17,
   "metadata": {},
   "outputs": [
    {
     "name": "stdout",
     "output_type": "stream",
     "text": [
      "Epoch 1/10\n"
     ]
    },
    {
     "name": "stdout",
     "output_type": "stream",
     "text": [
      "4/4 [==============================] - 25s 6s/step - loss: 2.2908 - mae: 0.1798 - val_loss: 2.2676 - val_mae: 0.1794\n",
      "Epoch 2/10\n",
      "4/4 [==============================] - 24s 6s/step - loss: 2.2630 - mae: 0.1792 - val_loss: 2.2383 - val_mae: 0.1786\n",
      "Epoch 3/10\n",
      "4/4 [==============================] - 23s 6s/step - loss: 2.2263 - mae: 0.1783 - val_loss: 2.1953 - val_mae: 0.1777\n",
      "Epoch 4/10\n",
      "4/4 [==============================] - 23s 6s/step - loss: 2.1811 - mae: 0.1773 - val_loss: 2.1484 - val_mae: 0.1765\n",
      "Epoch 5/10\n",
      "4/4 [==============================] - 23s 6s/step - loss: 2.1258 - mae: 0.1759 - val_loss: 2.0879 - val_mae: 0.1749\n",
      "Epoch 6/10\n",
      "4/4 [==============================] - 23s 6s/step - loss: 2.0619 - mae: 0.1740 - val_loss: 2.0176 - val_mae: 0.1728\n",
      "Epoch 7/10\n",
      "4/4 [==============================] - 23s 6s/step - loss: 1.9845 - mae: 0.1717 - val_loss: 1.9365 - val_mae: 0.1702\n",
      "Epoch 8/10\n",
      "4/4 [==============================] - 23s 6s/step - loss: 1.8959 - mae: 0.1686 - val_loss: 1.8447 - val_mae: 0.1667\n",
      "Epoch 9/10\n",
      "4/4 [==============================] - 22s 6s/step - loss: 1.7927 - mae: 0.1646 - val_loss: 1.7383 - val_mae: 0.1623\n",
      "Epoch 10/10\n",
      "4/4 [==============================] - 22s 6s/step - loss: 1.6818 - mae: 0.1595 - val_loss: 1.6191 - val_mae: 0.1566\n"
     ]
    }
   ],
   "source": [
    "tf_hist = tf_model.fit(x_train, y_train, epochs=10, batch_size=256, verbose=1, validation_data=(x_test, y_test))"
   ]
  },
  {
   "cell_type": "code",
   "execution_count": 18,
   "metadata": {},
   "outputs": [
    {
     "data": {
      "image/png": "[encoded data removed]",
      "text/plain": [
       "<Figure size 640x480 with 1 Axes>"
      ]
     },
     "metadata": {},
     "output_type": "display_data"
    }
   ],
   "source": [
    "plt.plot(tf_hist.history['loss'], label='loss')\n",
    "plt.plot(tf_hist.history['val_loss'], label='val_loss')\n",
    "plt.legend()\n",
    "plt.show()"
   ]
  },
  {
   "cell_type": "code",
   "execution_count": 19,
   "metadata": {},
   "outputs": [
    {
     "name": "stdout",
     "output_type": "stream",
     "text": [
      "4/4 [==============================] - 0s 35ms/step - loss: 1.6188 - mae: 0.1566\n"
     ]
    },
    {
     "data": {
      "text/plain": [
       "[1.6187890768051147, 0.1565711945295334]"
      ]
     },
     "execution_count": 19,
     "metadata": {},
     "output_type": "execute_result"
    }
   ],
   "source": [
    "tf_model.evaluate(x_test, y_test)"
   ]
  },
  {
   "cell_type": "code",
   "execution_count": null,
   "metadata": {},
   "outputs": [],
   "source": []
  }
 ],
 "metadata": {
  "kernelspec": {
   "display_name": "lab",
   "language": "python",
   "name": "python3"
  },
  "language_info": {
   "codemirror_mode": {
    "name": "ipython",
    "version": 3
   },
   "file_extension": ".py",
   "mimetype": "text/x-python",
   "name": "python",
   "nbconvert_exporter": "python",
   "pygments_lexer": "ipython3",
   "version": "3.9.18"
  }
 },
 "nbformat": 4,
 "nbformat_minor": 2
}
